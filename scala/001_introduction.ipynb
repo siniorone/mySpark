{
 "cells": [
  {
   "cell_type": "markdown",
   "id": "3ea02ea9-8b5c-4f13-ac94-d510ec0b3038",
   "metadata": {},
   "source": [
    " generate a sequence of numbers:"
   ]
  },
  {
   "cell_type": "code",
   "execution_count": 2,
   "id": "f9683f07-ae43-40cc-81fe-02c1ab533ebd",
   "metadata": {},
   "outputs": [
    {
     "data": {
      "text/plain": [
       "res1: scala.collection.immutable.Range.Inclusive = Range 1 to 10\n"
      ]
     },
     "execution_count": 2,
     "metadata": {},
     "output_type": "execute_result"
    }
   ],
   "source": [
    "1 to 10"
   ]
  },
  {
   "cell_type": "markdown",
   "id": "d24d4d35-6c7d-467d-893b-acde0658186b",
   "metadata": {},
   "source": [
    "We can increase the value of the element of each number by using the map function as illustrated in the following figure:  \n"
   ]
  },
  {
   "cell_type": "markdown",
   "id": "4aed8579-1fea-4b02-a9cd-3ac54b3b7ec1",
   "metadata": {
    "tags": []
   },
   "source": [
    "<a ><img src = \"./image/scala_map.png\" width = 1000, align = \"center\"></a>\n",
    "\n",
    "<h1 align=center><font size = 4>Example of the map in function </h1>"
   ]
  },
  {
   "cell_type": "markdown",
   "id": "46169f6b-4f72-4bb2-b6a1-e17992250779",
   "metadata": {},
   "source": [
    "It just takes one line of code: "
   ]
  },
  {
   "cell_type": "code",
   "execution_count": 6,
   "id": "466d7247-d9ba-466d-9558-972a5621536c",
   "metadata": {},
   "outputs": [
    {
     "data": {
      "text/plain": [
       "res2: scala.collection.immutable.IndexedSeq[Int] = Vector(2, 3, 4, 5, 6, 7, 8, 9, 10, 11)\n"
      ]
     },
     "execution_count": 6,
     "metadata": {},
     "output_type": "execute_result"
    }
   ],
   "source": [
    "(1 to 10).map(x => x+1)"
   ]
  },
  {
   "cell_type": "markdown",
   "id": "a27ba1a6-f07b-48d3-8462-d7ac32152b49",
   "metadata": {},
   "source": [
    " The variable \"res0\" does not exist in the notebook. However, we can explicitly bind a name to a value by using the familiar `=` syntax. The declaration `val a = 1 to 10` says that we want to bind the result of `1 to 10` to the name `a`. It is important to note that when we use `val` we're creating an immutable value. This is the reason why we call it a binding rather than assignment. Once we bind a name to a value, that name cannot be re-bound to the a different value in the same scope, even if the types are the same. You can try this out below. Try to bind a different value to `a`. To do this complete change the line that just contains `a` to be `a = 10 to 15` and observe the compiler error."
   ]
  },
  {
   "cell_type": "code",
   "execution_count": 7,
   "id": "da41d0db-9d8b-4019-865d-70db4b503490",
   "metadata": {},
   "outputs": [
    {
     "data": {
      "text/plain": [
       "a: scala.collection.immutable.Range.Inclusive = Range 1 to 10\n",
       "res3: scala.collection.immutable.Range.Inclusive = Range 1 to 10\n"
      ]
     },
     "execution_count": 7,
     "metadata": {},
     "output_type": "execute_result"
    }
   ],
   "source": [
    "val a = 1 to 10\n",
    "//sometimes If you don't leave the variable at the end you will not display the results \n",
    "a"
   ]
  },
  {
   "cell_type": "markdown",
   "id": "8fa37ae9-125f-4a36-bc7f-2e558ddc7c9d",
   "metadata": {},
   "source": [
    "Functions do not mutate the objects they are call on. For instance you can call the `map` function on `a`. This will return a new value."
   ]
  },
  {
   "cell_type": "code",
   "execution_count": 8,
   "id": "c37dd72f-a5a5-4567-998c-d630dc80ed9e",
   "metadata": {},
   "outputs": [
    {
     "data": {
      "text/plain": [
       "res4: scala.collection.immutable.IndexedSeq[Int] = Vector(2, 3, 4, 5, 6, 7, 8, 9, 10, 11)\n"
      ]
     },
     "execution_count": 8,
     "metadata": {},
     "output_type": "execute_result"
    }
   ],
   "source": [
    "a.map(x => x + 1)"
   ]
  },
  {
   "cell_type": "markdown",
   "id": "8a5a9f14-0e04-49bc-ad9a-cdcd625126c3",
   "metadata": {},
   "source": [
    "the variable `a` has not changed. We have just returned a new value."
   ]
  },
  {
   "cell_type": "code",
   "execution_count": 9,
   "id": "1720d843-ac1f-400f-8eb8-f636494dfb98",
   "metadata": {},
   "outputs": [
    {
     "data": {
      "text/plain": [
       "res5: scala.collection.immutable.Range.Inclusive = Range 1 to 10\n"
      ]
     },
     "execution_count": 9,
     "metadata": {},
     "output_type": "execute_result"
    }
   ],
   "source": [
    "a"
   ]
  },
  {
   "cell_type": "markdown",
   "id": "75f3a78f-0016-480a-ba76-21e3cbc72789",
   "metadata": {},
   "source": [
    "In order to be able to re-assign values to a name you can use the `var` syntax."
   ]
  },
  {
   "cell_type": "code",
   "execution_count": 10,
   "id": "caa73ba4-de0b-423b-928a-755deaf8a9ea",
   "metadata": {},
   "outputs": [
    {
     "data": {
      "text/plain": [
       "b: scala.collection.immutable.IndexedSeq[Int] = Vector(2, 3, 4, 5, 6, 7, 8, 9, 10, 11)\n",
       "res6: scala.collection.immutable.IndexedSeq[Int] = Vector(2, 3, 4, 5, 6, 7, 8, 9, 10, 11)\n"
      ]
     },
     "execution_count": 10,
     "metadata": {},
     "output_type": "execute_result"
    }
   ],
   "source": [
    "var b = a.map(x => x + 1)\n",
    "b"
   ]
  },
  {
   "cell_type": "markdown",
   "id": "4ac0fc6f-7c04-42ac-8705-bae1df44f6a3",
   "metadata": {},
   "source": [
    "Since we declared `b` to be a mutable `var` rather than an immutable `val` we can assign values to it more than once. For instance,"
   ]
  },
  {
   "cell_type": "code",
   "execution_count": 11,
   "id": "68f03865-78de-4cac-b8dd-643158d00e35",
   "metadata": {},
   "outputs": [
    {
     "data": {
      "text/plain": [
       "b: scala.collection.immutable.IndexedSeq[Int] = Range 1 to 10\n",
       "res7: scala.collection.immutable.IndexedSeq[Int] = Range 1 to 10\n"
      ]
     },
     "execution_count": 11,
     "metadata": {},
     "output_type": "execute_result"
    }
   ],
   "source": [
    "b=1 to 10\n",
    "b"
   ]
  },
  {
   "cell_type": "markdown",
   "id": "3c187371-04e2-46f8-9d52-1968d0c210f9",
   "metadata": {},
   "source": [
    "Note that assigning values multiple times to a single var, they have to be the same type. Try assigning a value of type String to b and observe what happens. To do this, change the line containing b to read b = \"hello there and observe the error.\n"
   ]
  },
  {
   "cell_type": "code",
   "execution_count": 13,
   "id": "3988a3bb-bbb1-4c77-894e-c6a9f0d0a25e",
   "metadata": {},
   "outputs": [
    {
     "data": {
      "text/plain": [
       "res8: scala.collection.immutable.IndexedSeq[Int] = Range 1 to 10\n"
      ]
     },
     "execution_count": 13,
     "metadata": {},
     "output_type": "execute_result"
    }
   ],
   "source": [
    "b"
   ]
  },
  {
   "cell_type": "markdown",
   "id": "e7cf232f-7602-4322-b58a-8c95e3d7654a",
   "metadata": {},
   "source": [
    "In general, prefer using `val` to `var`. It is much easier to understand and think about code when we do not have to consider that it may be mutated by some operation. Working without mutation makes writing multi-threaded programs significantly easier. "
   ]
  },
  {
   "cell_type": "markdown",
   "id": "9224d67c-f14d-4d7d-9fa2-2bf68819fc77",
   "metadata": {},
   "source": [
    "***\n",
    "### part of Scala 101: cognitiveclass.ai lab"
   ]
  }
 ],
 "metadata": {
  "kernelspec": {
   "display_name": "spylon-kernel",
   "language": "scala",
   "name": "spylon-kernel"
  },
  "language_info": {
   "codemirror_mode": "text/x-scala",
   "file_extension": ".scala",
   "help_links": [
    {
     "text": "MetaKernel Magics",
     "url": "https://metakernel.readthedocs.io/en/latest/source/README.html"
    }
   ],
   "mimetype": "text/x-scala",
   "name": "scala",
   "pygments_lexer": "scala",
   "version": "0.4.1"
  }
 },
 "nbformat": 4,
 "nbformat_minor": 5
}
