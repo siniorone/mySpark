{
 "cells": [
  {
   "cell_type": "markdown",
   "id": "0b1bdcff-d65c-41d9-8d5b-67dd07161b23",
   "metadata": {},
   "source": [
    "# For expressions\n",
    "\n",
    "After completing this lesson, you should be able to:\n",
    "  - Understand the relationship between for expressions and higher order functions\n",
    "  - Describe the usage of for expressions\n",
    "\n",
    "For expressions are syntactic sugar that simplifies the work of programming a multistage transformation\n",
    "\n",
    "Let's take an example:"
   ]
  },
  {
   "cell_type": "code",
   "execution_count": 3,
   "id": "67a34340-8d2e-428b-bb8a-8a3050ba5499",
   "metadata": {},
   "outputs": [
    {
     "data": {
      "text/plain": [
       "res2: scala.collection.immutable.IndexedSeq[scala.collection.immutable.Range.Inclusive] = Vector(Range 1 to 1, Range 1 to 2, Range 1 to 3)\n"
      ]
     },
     "execution_count": 3,
     "metadata": {},
     "output_type": "execute_result"
    }
   ],
   "source": [
    "myNums.map(i => (1 to i))"
   ]
  },
  {
   "cell_type": "code",
   "execution_count": 2,
   "id": "4206eeaf-2789-49ce-a78b-9e313b074011",
   "metadata": {},
   "outputs": [
    {
     "data": {
      "text/plain": [
       "myNums: scala.collection.immutable.Range.Inclusive = Range 1 to 3\n",
       "res1: scala.collection.immutable.IndexedSeq[scala.collection.immutable.IndexedSeq[Int]] = Vector(Vector(1), Vector(2, 4), Vector(3, 6, 9))\n"
      ]
     },
     "execution_count": 2,
     "metadata": {},
     "output_type": "execute_result"
    }
   ],
   "source": [
    "val myNums = 1 to 3\n",
    "myNums.map(i => (1 to i).map(j => i * j))"
   ]
  },
  {
   "cell_type": "markdown",
   "id": "5f178ac3-a66e-495d-a179-f258fb97f347",
   "metadata": {},
   "source": [
    "***\n",
    "The following two examples show the same but in Java and Python.\n",
    "\n",
    "```java\n",
    "import java.util.ArrayList;\n",
    "\n",
    "class test {\n",
    "    public static void main(String[] args) {\n",
    "        ArrayList<Integer> lst = new ArrayList<>();\n",
    "        lst.add(1);\n",
    "        lst.add(2);\n",
    "        lst.add(3);\n",
    "\n",
    "        ArrayList<ArrayList<Integer>> result = new ArrayList<>();\n",
    "        ArrayList<Integer> subLst;\n",
    "\n",
    "\n",
    "        for(int s=0; s < lst.size(); s++) {\n",
    "            subLst = new ArrayList<>();\n",
    "            int sValue = lst.get(s);\n",
    "\n",
    "            for(int t=0; t < s+1; t++) {\n",
    "                int tValue = sValue * (t + 1);\n",
    "                subLst.add(tValue);\n",
    "            }\n",
    "            result.add(subLst);\n",
    "        }\n",
    "\n",
    "        System.out.println(result);\n",
    "    }\n",
    "}\n",
    "```\n",
    "\n",
    "```python\n",
    "lst = range(1, 4) # python range is not inclusive\n",
    "\n",
    "result = []\n",
    "for i in lst:\n",
    "    sub_result = [j * i for j in range(1, i+1)]\n",
    "    result.append(sub_result)\n",
    "\n",
    "print(result)\n",
    "```\n",
    "Since, we want a collections of integers rather than a collection of collections, we start the processing with `flatMap` instead of `map`."
   ]
  },
  {
   "cell_type": "code",
   "execution_count": 6,
   "id": "db88c96f-903e-40f0-bba2-c7220967abc4",
   "metadata": {},
   "outputs": [
    {
     "data": {
      "text/plain": [
       "res5: scala.collection.immutable.IndexedSeq[Int] = Vector(1, 2, 4, 3, 6, 9)\n"
      ]
     },
     "execution_count": 6,
     "metadata": {},
     "output_type": "execute_result"
    }
   ],
   "source": [
    "myNums.flatMap(i => (1 to i).map(j => i * j))"
   ]
  },
  {
   "cell_type": "markdown",
   "id": "1fd4896c-f431-4849-ae69-71567a5b6f0d",
   "metadata": {},
   "source": [
    "We can simplify the appearance of the code in the example above by using for-expressions. "
   ]
  },
  {
   "cell_type": "code",
   "execution_count": 7,
   "id": "2dae2cfe-e6e4-4c09-a72c-79e3d585674d",
   "metadata": {},
   "outputs": [
    {
     "data": {
      "text/plain": [
       "myNums: Vector[Int] = Vector(1, 2, 3)\n",
       "result: Vector[Int] = Vector(1, 2, 4, 3, 6, 9)\n"
      ]
     },
     "execution_count": 7,
     "metadata": {},
     "output_type": "execute_result"
    }
   ],
   "source": [
    "val myNums = (1 to 3).toVector\n",
    "val result: Vector[Int] = for {\n",
    "  i <- myNums\n",
    "  j <- 1 to i\n",
    "} yield i * j"
   ]
  },
  {
   "cell_type": "markdown",
   "id": "f464890d-86ca-4030-be5e-554009c4291f",
   "metadata": {},
   "source": [
    "\n",
    "The rules for using the `for` expressions is that they:\n",
    "  - must with the keyword `for`\n",
    "  - must have generators that use `<-`\n",
    "  - the `yield` keyword will dictate whether or not a new value is returned\n",
    "\n",
    "`for` expressions are alternative syntax (a.k.a syntactic sugar) for the combined use of `flatMap`, `map`, `withFilter` and `foreach` higher-order functions.\n",
    "\n",
    "We can also apply **guard conditions** in `for` expressions. Below we modify the earlier example by filtering the original list of `myNums` to odd numbers only.\n"
   ]
  },
  {
   "cell_type": "code",
   "execution_count": 8,
   "id": "70938838-7b9c-4dc6-9872-e648022e843f",
   "metadata": {},
   "outputs": [
    {
     "data": {
      "text/plain": [
       "myNums: Vector[Int] = Vector(1, 2, 3)\n",
       "result: Vector[Int] = Vector(1, 3, 6, 9)\n"
      ]
     },
     "execution_count": 8,
     "metadata": {},
     "output_type": "execute_result"
    }
   ],
   "source": [
    "val myNums = (1 to 3).toVector\n",
    "val result: Vector[Int] = for {\n",
    "  i <- myNums if i % 2 == 1\n",
    "  j <- 1 to i\n",
    "} yield i * j"
   ]
  },
  {
   "cell_type": "code",
   "execution_count": 10,
   "id": "90879668-b53e-40d3-8aea-e6fab61fcb79",
   "metadata": {},
   "outputs": [
    {
     "data": {
      "text/plain": [
       "result: Vector[String] = Vector(Hello Mr. Ali Mohammadi, Hello Mr. Ali Karimi, Hello Mr. Ali Safari, Hello Mr. Reza Mohammadi, Hello Mr. Reza Karimi, Hello Mr. Reza Safari, Hello Mr. Sina Mohammadi, Hello Mr. Sina Karimi, Hello Mr. Sina Safari)\n"
      ]
     },
     "execution_count": 10,
     "metadata": {},
     "output_type": "execute_result"
    }
   ],
   "source": [
    "val result: Vector[String] = for {\n",
    "i <- Vector(\"Ali\", \"Reza\", \"Sina\")\n",
    "j <- Vector(\"Mohammadi\", \"Karimi\", \"Safari\")\n",
    "} yield \"Hello Mr. \" + i + \" \" + j"
   ]
  },
  {
   "cell_type": "markdown",
   "id": "20f784ec-76a3-4842-9547-9f63ce98c55b",
   "metadata": {},
   "source": [
    "With this modification we have the results of starting the multiplication with the odd numbers only. You can also modify one of the other earlier examples in Java or Python to achieve the same result.\n",
    "\n",
    "`for` expression syntax also allows for local definitions. For instance,"
   ]
  },
  {
   "cell_type": "code",
   "execution_count": 11,
   "id": "a67bad24-cc9b-4515-916f-c24def2fde10",
   "metadata": {},
   "outputs": [
    {
     "data": {
      "text/plain": [
       "defined class Time\n",
       "times: List[Time] = List(Time(10,10), Time(11,11), Time(20,9))\n",
       "result: List[String] = List(8pm)\n"
      ]
     },
     "execution_count": 11,
     "metadata": {},
     "output_type": "execute_result"
    }
   ],
   "source": [
    "case class Time(hours: Int, minutes: Int)\n",
    "\n",
    "val times = List[Time](Time(10, 10), Time(11, 11), Time(20, 9))\n",
    "\n",
    "val result: List[String] = for {\n",
    "  time <- times\n",
    "  hours = time.hours if hours > 12\n",
    "} yield (hours - 12) + \"pm\""
   ]
  },
  {
   "cell_type": "markdown",
   "id": "0e9b5b89-7707-47e3-863e-256db38fa40a",
   "metadata": {},
   "source": [
    "Note that this is the same as\n"
   ]
  },
  {
   "cell_type": "code",
   "execution_count": 12,
   "id": "e06b396b-384e-42b6-a8af-8bc212ccfd5a",
   "metadata": {},
   "outputs": [
    {
     "data": {
      "text/plain": [
       "defined class Time\n",
       "times: List[Time] = List(Time(10,10), Time(11,11), Time(20,9))\n",
       "result: List[String] = List(8pm)\n"
      ]
     },
     "execution_count": 12,
     "metadata": {},
     "output_type": "execute_result"
    }
   ],
   "source": [
    "case class Time(hours: Int, minutes: Int)\n",
    "\n",
    "val times = List[Time](Time(10, 10), Time(11, 11), Time(20, 9))\n",
    "\n",
    "val result: List[String] = for {\n",
    "  time <- times\n",
    "  if time.hours > 12\n",
    "} yield (time.hours - 12) + \"pm\""
   ]
  },
  {
   "cell_type": "markdown",
   "id": "30de645e-e0af-4be0-8772-f72a6c156c65",
   "metadata": {},
   "source": [
    "The local definition of `hours` is introduced only to simplify the code below.\n",
    "\n",
    "All of the code written up to this point has been used to produce values. There are times when we do not want to produce a value. We are executing code to accomplish some sort of side-effect. This could be writing to a database or printing something to the screen or any operation that doesn't return a value but has an external effect. `for` expressions accommodate this situation by allowing us to omit the use of `yield`. "
   ]
  },
  {
   "cell_type": "code",
   "execution_count": 13,
   "id": "f9afc335-4c98-439e-8a58-5ad08940cfa8",
   "metadata": {},
   "outputs": [
    {
     "name": "stdout",
     "output_type": "stream",
     "text": [
      "1\n",
      "2\n",
      "3\n"
     ]
    }
   ],
   "source": [
    "for (n <- 1 to 3) println(n)"
   ]
  },
  {
   "cell_type": "markdown",
   "id": "198dd144-fb79-4cdd-8c8b-b6fe32f2f3af",
   "metadata": {},
   "source": [
    "The code above is equivalent to \n"
   ]
  },
  {
   "cell_type": "code",
   "execution_count": 14,
   "id": "ce18fcec-b96e-4160-b852-58851ab7624e",
   "metadata": {},
   "outputs": [
    {
     "name": "stdout",
     "output_type": "stream",
     "text": [
      "1\n",
      "2\n",
      "3\n"
     ]
    }
   ],
   "source": [
    "(1 to 3).foreach(i => println(i))"
   ]
  },
  {
   "cell_type": "markdown",
   "id": "657081b2-d470-4027-bd4a-e1b178ffffcd",
   "metadata": {},
   "source": [
    "To summarize:\n",
    "\n",
    "  - `for` expressions are a more readable way of expressions consisting of nested `map`, `flatMap`, `filter` and `foreach`.\n",
    "  - the compiler will translate for expressions that we write into a chain of `map`, `flatMap`, `filter` and `foreach`\n",
    "  - the syntax allows for filtering and local definitions\n",
    "  - use `for` expressions whenever you are iterating thought more than one collection-like object or want to chain multiple transformations\n",
    "\n",
    "\n",
    "# Patterns Matching\n",
    "\n",
    "\n",
    "Pattern matching is a powerful construct that improves on the familiar `switch`/`case` syntax (which is absent in Scala). It is best to start with a simple example:\n"
   ]
  },
  {
   "cell_type": "code",
   "execution_count": 17,
   "id": "55a9eefb-0d86-428d-8025-4294b4ae1a66",
   "metadata": {},
   "outputs": [
    {
     "name": "stdout",
     "output_type": "stream",
     "text": [
      "found some value of type Int\n"
     ]
    },
    {
     "data": {
      "text/plain": [
       "<console>:33: warning: unreachable code\n",
       "         case _ => println(\"found something that is not 1 or some other integer\")\n",
       "                          ^\n",
       "result: Int = 10\n"
      ]
     },
     "execution_count": 17,
     "metadata": {},
     "output_type": "execute_result"
    }
   ],
   "source": [
    "val result: Int = 10\n",
    "\n",
    "result match {\n",
    "  case 1 => println(\"found 1\")\n",
    "  case someInteger: Int => println(\"found some value of type Int\")\n",
    "  // the compiler will issue a warning because this code is acutally impossible\n",
    "  // to reach. Any value of type Int will match the second condition\n",
    "  case _ => println(\"found something that is not 1 or some other integer\")\n",
    "}"
   ]
  },
  {
   "cell_type": "markdown",
   "id": "0be37b6c-1dd5-4816-bb11-44692d965f0c",
   "metadata": {},
   "source": [
    "Matching is started with the keyword `match` which is followed by a block of case statements. The left-hand side of the `=>` in the `case` statement supports several varieties of syntax. The right-hand side can contain arbitrary code.\n",
    "\n",
    "In the first `case` statement, we've checking if the `result` we're trying to find a match for is an integer 1. If it is not, the pattern matching moves on to the next `case` statement. In the following statement, if the value of `result` has a type of `Int`. If that is true, the value of `result` is stored in the name `someInteger`,**this is known as a `type` pattern**. If this pattern match is not successful, ie if `result` is not of type `Int`, the next case is evaluated. This last statement is a catch-all that will successfully match anything. When it matches, the string `\"found something that is not 1 or some other integer\"` will be printed to the screen.\n",
    "We can wrap this pattern matching expressions into a function and experiment with it."
   ]
  },
  {
   "cell_type": "code",
   "execution_count": 19,
   "id": "b81be722-68fb-4c2e-a0c7-727130fbd399",
   "metadata": {},
   "outputs": [
    {
     "name": "stdout",
     "output_type": "stream",
     "text": [
      "found 1\n",
      "found some value of type Int\n"
     ]
    },
    {
     "data": {
      "text/plain": [
       "<console>:27: warning: unreachable code\n",
       "           case _ => println(\"found something that is not 1 or some other integer\")\n",
       "                            ^\n",
       "isOneOrInteger: (value: Int)Unit\n"
      ]
     },
     "execution_count": 19,
     "metadata": {},
     "output_type": "execute_result"
    }
   ],
   "source": [
    "def isOneOrInteger(value: Int): Unit =\n",
    "  value match {\n",
    "    case 1 => println(\"found 1\")\n",
    "    case someInteger: Int => println(\"found some value of type Int\")\n",
    "    case _ => println(\"found something that is not 1 or some other integer\")\n",
    "  }\n",
    "\n",
    "isOneOrInteger(1)\n",
    "isOneOrInteger(22)"
   ]
  },
  {
   "cell_type": "markdown",
   "id": "48c55ede-5b80-47b1-b195-e9f1afc08b1f",
   "metadata": {},
   "source": [
    "\n",
    "With this definition of the function the compiler will not actually allow us to pass anything other than integers as parameters to the function. In order to get around this, we have to relax the type of `value` to `Any`. Make this change and pass parameters of other types into the function. Observe the output.\n",
    "\n",
    "Pattern matching is very useful when you want to act on specific values of some case class or a hierarchy of types that represents a set of alternatives (also known as an Algebraic Data Type).\n",
    "\n",
    "As a reminder, an Algebraic Data Type is a way to encode the fact that a certain type is represented by a finite set of alternatives. For instance, in Scala the Boolean type contains two values, `true` and `false`. We could represent these as distinct types. This is shown below:"
   ]
  },
  {
   "cell_type": "code",
   "execution_count": 20,
   "id": "d227b29b-f9dd-4f38-9452-5c5c15fe4945",
   "metadata": {},
   "outputs": [
    {
     "data": {
      "text/plain": [
       "defined trait MyBoolean\n",
       "defined class True\n",
       "defined class False\n"
      ]
     },
     "execution_count": 20,
     "metadata": {},
     "output_type": "execute_result"
    }
   ],
   "source": [
    "sealed trait MyBoolean {\n",
    "  def value: Boolean\n",
    "}\n",
    "case class True(value: Boolean = true) extends MyBoolean\n",
    "case class False(value: Boolean = false) extends MyBoolean"
   ]
  },
  {
   "cell_type": "markdown",
   "id": "eed29c1a-59cc-43ec-8f72-3ba67a60df11",
   "metadata": {},
   "source": [
    "This the typical representation of an ADT in Scala. Closing the `trait` with `sealed` means that all of the definitions that are inherit from this trait  are defined in the same Scala file where this definition is located.\n",
    "\n",
    "\n",
    "As another example, we could model the behavior of a light switch with an ADT. This is shown below:"
   ]
  },
  {
   "cell_type": "code",
   "execution_count": 21,
   "id": "3f6b7bda-cbdc-415b-9f6e-57c2a43c08b9",
   "metadata": {},
   "outputs": [
    {
     "data": {
      "text/plain": [
       "defined trait LightSwitch\n",
       "defined object On\n",
       "defined object Off\n"
      ]
     },
     "execution_count": 21,
     "metadata": {},
     "output_type": "execute_result"
    }
   ],
   "source": [
    "sealed trait LightSwitch\n",
    "case object On extends LightSwitch\n",
    "case object Off extends LightSwitch"
   ]
  },
  {
   "cell_type": "markdown",
   "id": "15640d65-b04e-4ca2-bad5-f0aa280dff22",
   "metadata": {},
   "source": [
    "Since we've notified the compiler, by using `sealed`, that all of the subtypes of `LightSwitch` are in this file, it (the compiler) will verify that we have covered all of the cases when we pattern match on a value of type `LightSwitch`. Assign a value to `light` and observe the behavior.\n"
   ]
  },
  {
   "cell_type": "code",
   "execution_count": 22,
   "id": "f9ee12ac-67cd-4f5e-9dc3-91e32b4ad9ef",
   "metadata": {},
   "outputs": [
    {
     "name": "stdout",
     "output_type": "stream",
     "text": [
      "this switch is off\n"
     ]
    },
    {
     "data": {
      "text/plain": [
       "defined trait LightSwitch\n",
       "defined object On\n",
       "defined object Off\n",
       "light: LightSwitch = Off\n",
       "status: (value: LightSwitch)Unit\n"
      ]
     },
     "execution_count": 22,
     "metadata": {},
     "output_type": "execute_result"
    }
   ],
   "source": [
    "sealed trait LightSwitch\n",
    "case object On extends LightSwitch\n",
    "case object Off extends LightSwitch\n",
    "\n",
    "val light: LightSwitch = Off\n",
    "\n",
    "def status(value: LightSwitch): Unit = \n",
    "  value match {\n",
    "    case On => println(\"the switch is on\")\n",
    "    case Off => println(\"this switch is off\")\n",
    "  }\n",
    "\n",
    "status(light)"
   ]
  },
  {
   "cell_type": "markdown",
   "id": "c74e5218-a838-4cb3-9845-8cf86217f688",
   "metadata": {},
   "source": [
    "\n",
    "We can write something similar to the above for our custom `Boolean` type. These values are little bit more complex in that they actually carry some values. However, using pattern matching we can de-compose or `unapply` case class into its components. Set value of `b` to one of the possible alternatives and observe the difference."
   ]
  },
  {
   "cell_type": "code",
   "execution_count": 24,
   "id": "ec9f6f2f-0ef9-4958-a0ab-43233fd661b8",
   "metadata": {},
   "outputs": [
    {
     "data": {
      "text/plain": [
       "defined trait MyBoolean\n",
       "defined class True\n",
       "defined class False\n",
       "b: MyBoolean = False(false)\n",
       "isItActuallyTrue: (value: MyBoolean)Unit\n"
      ]
     },
     "execution_count": 24,
     "metadata": {},
     "output_type": "execute_result"
    }
   ],
   "source": [
    "sealed trait MyBoolean {\n",
    "  def value: Boolean\n",
    "}\n",
    "\n",
    "case class True(override val value: Boolean = true) extends MyBoolean\n",
    "case class False(override val value: Boolean = false) extends MyBoolean\n",
    "\n",
    "\n",
    "val b: MyBoolean = False()\n",
    "\n",
    "def isItActuallyTrue(value: MyBoolean): Unit =\n",
    "  value match {\n",
    "    case True(true) => println(\"it is actually true!\")\n",
    "    case True(false) => println(\"it is pretending to be true!\")\n",
    "    case False(true) => println(\"it is pretending to be false, but is actually true!\")\n",
    "    case False(false) => println(\"it is really false!\")\n",
    "  }"
   ]
  },
  {
   "cell_type": "markdown",
   "id": "6f439480-44cb-4613-91f1-effb025368ff",
   "metadata": {},
   "source": [
    "# Options\n",
    "\n",
    "`Option` represents a presence or an absence of a value. Consider division. We could implement division and handle division by 0 by throwing an exception like so:\n"
   ]
  },
  {
   "cell_type": "code",
   "execution_count": 26,
   "id": "20698806-0fb2-43dc-b9a2-a792e7273146",
   "metadata": {},
   "outputs": [
    {
     "data": {
      "text/plain": [
       "divE: (numerator: Int, denominator: Int)Int\n",
       "res16: Int = 5\n"
      ]
     },
     "execution_count": 26,
     "metadata": {},
     "output_type": "execute_result"
    }
   ],
   "source": [
    "def divE(numerator: Int, denominator: Int): Int =\n",
    "  if (denominator == 0) throw new Exception(\"Denominator is 0\") else numerator / denominator\n",
    "\n",
    "divE(10, 2)"
   ]
  },
  {
   "cell_type": "code",
   "execution_count": 27,
   "id": "cfa1883c-9ebd-420b-9274-04ee6c1de4bb",
   "metadata": {},
   "outputs": [
    {
     "ename": "java.lang.Exception",
     "evalue": " Denominator is 0",
     "output_type": "error",
     "traceback": [
      "java.lang.Exception: Denominator is 0",
      "  at divE(<console>:24)",
      "  ... 37 elided",
      ""
     ]
    }
   ],
   "source": [
    "divE(2, 0)"
   ]
  },
  {
   "cell_type": "markdown",
   "id": "5256ada0-c664-4c90-a43b-5f6272d80bb6",
   "metadata": {},
   "source": [
    "However, this is far from idiomatic Scala. In the above we interrupting the flow of the program with an exception that we can easily handle ourselves. Furthermore, there is nothing about the function definition that communicates to us that this function may not produce a value in some cases. The following is a better definition of the same function:"
   ]
  },
  {
   "cell_type": "code",
   "execution_count": 28,
   "id": "06a18c00-9c29-40bd-b23d-cc9a09e74f84",
   "metadata": {},
   "outputs": [
    {
     "data": {
      "text/plain": [
       "divO: (numerator: Int, denominator: Int)Option[Int]\n",
       "res18: Option[Int] = None\n"
      ]
     },
     "execution_count": 28,
     "metadata": {},
     "output_type": "execute_result"
    }
   ],
   "source": [
    "def divO(numerator: Int, denominator: Int): Option[Int] =\n",
    "  if (denominator == 0) None else Some(numerator / denominator)\n",
    "\n",
    "divO(10, 2)\n",
    "divO(2, 0)"
   ]
  },
  {
   "cell_type": "markdown",
   "id": "8ba1a8f2-1e73-49e5-baa5-f3156c45fd44",
   "metadata": {},
   "source": [
    "wow!"
   ]
  },
  {
   "cell_type": "markdown",
   "id": "0f4caf81-9a46-4035-96d0-5345ae13cd55",
   "metadata": {},
   "source": [
    "Pattern matching makes processing values of type `Option` straightforward.\n"
   ]
  },
  {
   "cell_type": "code",
   "execution_count": 30,
   "id": "346ae729-ab4b-443d-ae24-70acabe3b1c0",
   "metadata": {},
   "outputs": [
    {
     "data": {
      "text/plain": [
       "stringLegnth: (value: Option[String])Int\n"
      ]
     },
     "execution_count": 30,
     "metadata": {},
     "output_type": "execute_result"
    }
   ],
   "source": [
    "def stringLegnth(value: Option[String]): Int =\n",
    "  value match {\n",
    "    case Some(str) => str.length\n",
    "    case None => 0\n",
    "  }"
   ]
  },
  {
   "cell_type": "markdown",
   "id": "ab38bc67-d902-451c-b0cc-3cf8b4fe8512",
   "metadata": {},
   "source": [
    "This pattern, where we want to extract the value from an `Option` or provide a default value when the it is None occurs frequently. It is more concisely represented by the function `getOrElse`. Thus, we can reimplement the functionality of `stringLegnth` as: "
   ]
  },
  {
   "cell_type": "code",
   "execution_count": 40,
   "id": "84e63160-6344-4a29-867b-ada8c98e572e",
   "metadata": {},
   "outputs": [
    {
     "data": {
      "text/plain": [
       "stringLegnth: (value: Option[String])Int\n"
      ]
     },
     "execution_count": 40,
     "metadata": {},
     "output_type": "execute_result"
    }
   ],
   "source": [
    "def stringLegnth(value: Option[String]): Int =\n",
    "  value.getOrElse(\"\").length"
   ]
  },
  {
   "cell_type": "markdown",
   "id": "369e8706-a3fb-4237-a64e-c0c0c1d191c7",
   "metadata": {},
   "source": [
    "We provide the default value of `\"\"` (empty string) for the case when `value` is `None`. \n",
    "\n",
    "There are a number of higher order functions we can use with `Option`. For example, another way to implement `stringLegnth` to combine `map` and `getOrElse`."
   ]
  },
  {
   "cell_type": "code",
   "execution_count": 41,
   "id": "56cd29d5-16cb-4294-bb12-6b8294589e03",
   "metadata": {},
   "outputs": [
    {
     "data": {
      "text/plain": [
       "stringLegnth: (value: Option[String])Int\n"
      ]
     },
     "execution_count": 41,
     "metadata": {},
     "output_type": "execute_result"
    }
   ],
   "source": [
    "def stringLegnth(value: Option[String]): Int =\n",
    "  value.map(str => str.length).getOrElse(0)"
   ]
  },
  {
   "cell_type": "markdown",
   "id": "afbe705b-97d2-4a4d-8a16-be795311e3d2",
   "metadata": {},
   "source": [
    "If `value` is a `Some` we will compute the length of the string that it contains. If it is `None`, `map` will not do anything. Subsequently, `getOrElse` will be called. Note, that `getOrElse` is now being called on an `Option[Int]` value, because by using `map` we have changed the type of the value inside the `Option` from `String` to `Int`. As always, `getOrElse` will either return the contents of the `Option` or the default value of 0.\n",
    "\n",
    "We can sequence processing of options with `flatMap`. For example,"
   ]
  },
  {
   "cell_type": "code",
   "execution_count": 42,
   "id": "56d913ed-7fc6-45b5-a415-c498ebeec49f",
   "metadata": {},
   "outputs": [
    {
     "data": {
      "text/plain": [
       "fullName: (firstName: Option[String], lastName: Option[String])Option[String]\n",
       "bothOption: Option[String] = Some(John Doe)\n",
       "oneOption: Option[String] = None\n"
      ]
     },
     "execution_count": 42,
     "metadata": {},
     "output_type": "execute_result"
    }
   ],
   "source": [
    "def fullName(firstName: Option[String], lastName: Option[String]): Option[String] =\n",
    "  firstName.flatMap(fn => lastName.map(ln => s\"$fn $ln\"))\n",
    "\n",
    "val bothOption: Option[String] = fullName(Option(\"John\"), Option(\"Doe\"))\n",
    "val oneOption: Option[String] = fullName(Option(\"Prince\"), None)"
   ]
  },
  {
   "cell_type": "markdown",
   "id": "6d1d2c6d-a347-4cef-8468-37b4bd906d19",
   "metadata": {},
   "source": [
    "As you may remember the section on `for` expressions, nested combinations of `map` and `flatMap` can be re-written using `for` expressions. Thus, the `fullName` function above can be written as:"
   ]
  },
  {
   "cell_type": "code",
   "execution_count": 44,
   "id": "88226525-0a69-4ac3-ba72-37edb504a98d",
   "metadata": {},
   "outputs": [
    {
     "name": "stdout",
     "output_type": "stream",
     "text": [
      "Some(John Doe)\n",
      "None\n"
     ]
    },
    {
     "data": {
      "text/plain": [
       "fullName: (firstName: Option[String], lastName: Option[String])Option[String]\n"
      ]
     },
     "execution_count": 44,
     "metadata": {},
     "output_type": "execute_result"
    }
   ],
   "source": [
    "def fullName(firstName: Option[String], lastName: Option[String]): Option[String] =\n",
    "  for {\n",
    "    fn <- firstName\n",
    "    ln <- lastName\n",
    "  } yield s\"$fn $ln\"\n",
    "\n",
    "println(fullName(Option(\"John\"), Option(\"Doe\")))\n",
    "println(fullName(Option(\"Prince\"), None))"
   ]
  },
  {
   "cell_type": "markdown",
   "id": "8bae4a0e-a9f4-4b1d-ad86-ebb4621ed188",
   "metadata": {},
   "source": [
    "# Handling Failure\n",
    "\n",
    "There are a number of mechanisms that we can use in Scala to handle failures. In particular, we have already seen that instead of throwing exceptions we can avoid them by using `Option`. The Scala standard library provides another abstraction to help us with code where we have to handle an exception rather than avoiding it, `Try`.\n",
    "\n",
    "`Try` is actually an ADT that consists of `Success` and `Failure`. `Success` captures the result of the successful computation. `Failure` captures the exception that occurred during the computation. This is shown below.\n"
   ]
  },
  {
   "cell_type": "code",
   "execution_count": 48,
   "id": "13cfbf4c-8982-4e57-8870-4904cf77bbbc",
   "metadata": {},
   "outputs": [
    {
     "name": "stdout",
     "output_type": "stream",
     "text": [
      "got an exception of: java.lang.ArithmeticException: / by zero\n"
     ]
    },
    {
     "data": {
      "text/plain": [
       "import scala.util.{Try, Success, Failure}\n",
       "divT: (numerator: Int, denominator: Int)scala.util.Try[Int]\n",
       "result: scala.util.Try[Int] = Failure(java.lang.ArithmeticException: / by zero)\n"
      ]
     },
     "execution_count": 48,
     "metadata": {},
     "output_type": "execute_result"
    }
   ],
   "source": [
    "import scala.util.{Try, Success, Failure}\n",
    "\n",
    "def divT(numerator: Int, denominator: Int): Try[Int] =\n",
    "  Try(numerator / denominator)\n",
    "\n",
    "val result: Try[Int] = divT(10, 0)\n",
    "\n",
    "result match {\n",
    "  case Success(v) => println(\"got the result of: \" + v)\n",
    "  case Failure(e) => println(\"got an exception of: \" + e)\n",
    "}"
   ]
  },
  {
   "cell_type": "markdown",
   "id": "51c3b465-f093-4841-bc4f-f90658784b16",
   "metadata": {},
   "source": [
    "As can be seen above, we can use pattern matching to process a value of type `Try`. Similar to `Option`, `Try` implements a number of higher order functions. Some of these functions are shown below."
   ]
  },
  {
   "cell_type": "code",
   "execution_count": 49,
   "id": "b19854df-2ee0-4453-a886-c05645781053",
   "metadata": {},
   "outputs": [
    {
     "data": {
      "text/plain": [
       "import scala.util.{Try, Success, Failure}\n",
       "divT: (numerator: Int, denominator: Int)scala.util.Try[Int]\n",
       "result: scala.util.Try[Int] = Failure(java.lang.ArithmeticException: / by zero)\n",
       "getOrElseValue: Int = 0\n",
       "mapValue: scala.util.Try[Int] = Failure(java.lang.ArithmeticException: / by zero)\n",
       "flatMapValue: scala.util.Try[Int] = Failure(java.lang.ArithmeticException: / by zero)\n",
       "transformValue: scala.util.Try[Int] = Success(0)\n"
      ]
     },
     "execution_count": 49,
     "metadata": {},
     "output_type": "execute_result"
    }
   ],
   "source": [
    "import scala.util.{Try, Success, Failure}\n",
    "\n",
    "def divT(numerator: Int, denominator: Int): Try[Int] =\n",
    "  Try(numerator / denominator)\n",
    "\n",
    "val result: Try[Int] = divT(10, 0)\n",
    "\n",
    "// getOrElse on Try works the same was as on Option. note that the value has to be the same type as the success case\n",
    "val getOrElseValue: Int = result.getOrElse(0)\n",
    "\n",
    "// similar to Option, if `result` is a `Success` add 10 to it. Otherwise, do nothing\n",
    "val mapValue: Try[Int] = result.map(success => success + 10)\n",
    "\n",
    "// just like with `Option` we can sequence try computations with `flatMap`\n",
    "val flatMapValue: Try[Int] = result.flatMap(success => divT(success, 10))\n",
    "\n",
    "// transform takes two functions as parameters, one for each type of result\n",
    "val transformValue: Try[Int] = result.transform(s => Success(s + 10), ex => Success(0))"
   ]
  },
  {
   "cell_type": "markdown",
   "id": "0953e8d9-7200-453e-8e61-057f781a1104",
   "metadata": {},
   "source": [
    "Since we have `map` and `flatMap` implemented on `Try`, we can use `for` expressions with `Try`.\n"
   ]
  },
  {
   "cell_type": "code",
   "execution_count": 51,
   "id": "ffe3da47-fbcc-43ff-aa60-38d00f1a4907",
   "metadata": {},
   "outputs": [
    {
     "data": {
      "text/plain": [
       "import scala.util.{Try, Success, Failure}\n",
       "divT: (numerator: Int, denominator: Int)scala.util.Try[Int]\n",
       "result: scala.util.Try[Int] = Success(32)\n"
      ]
     },
     "execution_count": 51,
     "metadata": {},
     "output_type": "execute_result"
    }
   ],
   "source": [
    "import scala.util.{Try, Success, Failure}\n",
    "\n",
    "def divT(numerator: Int, denominator: Int): Try[Int] =\n",
    "  Try(numerator / denominator)\n",
    "\n",
    "val result: Try[Int] = for {\n",
    "  r1 <- divT(10, 10)\n",
    "  r2 <- divT(1100, 34)\n",
    "} yield r1 * r2"
   ]
  },
  {
   "cell_type": "markdown",
   "id": "a9b9ce13-487d-4531-95c8-7fa73a654939",
   "metadata": {},
   "source": [
    "The above can also be represented as:"
   ]
  },
  {
   "cell_type": "code",
   "execution_count": 52,
   "id": "94bf233c-f5cd-4cbb-81e1-bd6d2c66bbb5",
   "metadata": {},
   "outputs": [
    {
     "data": {
      "text/plain": [
       "import scala.util.{Try, Success, Failure}\n",
       "divT: (numerator: Int, denominator: Int)scala.util.Try[Int]\n",
       "resultForExpression: scala.util.Try[Int] = Success(32)\n",
       "resultFlatMap: scala.util.Try[Int] = Success(32)\n"
      ]
     },
     "execution_count": 52,
     "metadata": {},
     "output_type": "execute_result"
    }
   ],
   "source": [
    "import scala.util.{Try, Success, Failure}\n",
    "\n",
    "def divT(numerator: Int, denominator: Int): Try[Int] =\n",
    "  Try(numerator / denominator)\n",
    "\n",
    "val resultForExpression: Try[Int] = for {\n",
    "  r1 <- divT(10, 10)\n",
    "  r2 <- divT(1100, 34)\n",
    "} yield r1 * r2\n",
    "\n",
    "val resultFlatMap = divT(10, 10).flatMap(r1 => divT(1100, 34).map(r2 => r1 * r2))"
   ]
  },
  {
   "cell_type": "markdown",
   "id": "a3db035b-9165-4248-8070-3a95d9b1135c",
   "metadata": {},
   "source": [
    "# Futures\n",
    "\n",
    "By relying on immutability Scala makes multi-threaded programming easier. In addition to this, the Scala standard library provides an additional abstract to represent computations that may happen at a later time or on another thread. This abstraction is represented by the `Future` type.\n",
    "\n",
    "Prior to being able to create values of type `Future` we must specify on what thread pool the execution will be performed. The framework you're working with (like Play or Akka) will typically provide a way for you to use its own thread pool. In Scala, Java thread pools as wrapped into values of type `ExecutionContext`. Creating an `ExecutionContext` is shown below:"
   ]
  },
  {
   "cell_type": "code",
   "execution_count": 53,
   "id": "43feba44-eab6-4310-be2a-637042431c74",
   "metadata": {},
   "outputs": [
    {
     "data": {
      "text/plain": [
       "import scala.concurrent.ExecutionContext\n",
       "import java.util.concurrent.ForkJoinPool\n",
       "ec: scala.concurrent.ExecutionContext = scala.concurrent.impl.ExecutionContextImpl@5d861b9a\n"
      ]
     },
     "execution_count": 53,
     "metadata": {},
     "output_type": "execute_result"
    }
   ],
   "source": [
    "import scala.concurrent.ExecutionContext\n",
    "import java.util.concurrent.ForkJoinPool\n",
    "\n",
    "val ec: ExecutionContext = ExecutionContext.fromExecutor(new ForkJoinPool())"
   ]
  },
  {
   "cell_type": "markdown",
   "id": "ec2b89d0-7544-49a7-aca8-7f947ccf5ce5",
   "metadata": {},
   "source": [
    "with this value in scope we can start creating values of type `Future`.\n"
   ]
  },
  {
   "cell_type": "code",
   "execution_count": 54,
   "id": "7123e49b-4f55-43bf-abcc-ed0855012fb9",
   "metadata": {},
   "outputs": [
    {
     "data": {
      "text/plain": [
       "import scala.concurrent.{ExecutionContext, Future}\n",
       "import java.util.concurrent.ForkJoinPool\n",
       "ec: scala.concurrent.ExecutionContext = scala.concurrent.impl.ExecutionContextImpl@76b57d6\n",
       "f1: scala.concurrent.Future[Int] = Future(Success(1))\n",
       "longComputation: (duration: Int)Int\n",
       "f2: scala.concurrent.Future[Int] = Future(<not completed>)\n"
      ]
     },
     "execution_count": 54,
     "metadata": {},
     "output_type": "execute_result"
    }
   ],
   "source": [
    "import scala.concurrent.{ExecutionContext, Future}\n",
    "import java.util.concurrent.ForkJoinPool\n",
    "\n",
    "val ec: ExecutionContext = ExecutionContext.fromExecutor(new ForkJoinPool())\n",
    "\n",
    "// use `.successful` if simply wrapping a static value into a `Future`. This doesn't create threads\n",
    "val f1: Future[Int] = Future.successful(1)\n",
    "\n",
    "def longComputation(duration: Int): Int = {\n",
    "  // pretend as if time consuming work is being done\n",
    "  import java.lang.Thread.sleep\n",
    "  sleep(duration)\n",
    "  duration\n",
    "}\n",
    "\n",
    "// this will be executed in a thread on the ExecutionContext\n",
    "// we are passing the ExecutionContext value explicitly\n",
    "val f2: Future[Int] = Future(longComputation(100))(ec)"
   ]
  },
  {
   "cell_type": "markdown",
   "id": "29cd2004-692c-4508-8b08-421b8b82af1e",
   "metadata": {},
   "source": [
    "Passing the `ExecutionContext` value every time we use a `Future` is error-prone and hards readability. `Future` instances can take this parameter as an implicit parameter. Thus, we can write,\n"
   ]
  },
  {
   "cell_type": "code",
   "execution_count": 55,
   "id": "5589c5fb-d71b-4d23-98dc-dacc6d76f701",
   "metadata": {},
   "outputs": [
    {
     "data": {
      "text/plain": [
       "import scala.concurrent.{ExecutionContext, Future}\n",
       "import java.util.concurrent.ForkJoinPool\n",
       "ec: scala.concurrent.ExecutionContext = scala.concurrent.impl.ExecutionContextImpl@5afdf7d0\n",
       "longComputation: (duration: Int)scala.concurrent.Future[Int]\n",
       "f3: scala.concurrent.Future[Int] = Future(<not completed>)\n"
      ]
     },
     "execution_count": 55,
     "metadata": {},
     "output_type": "execute_result"
    }
   ],
   "source": [
    "import scala.concurrent.{ExecutionContext, Future}\n",
    "import java.util.concurrent.ForkJoinPool\n",
    "\n",
    "implicit val ec: ExecutionContext = ExecutionContext.fromExecutor(new ForkJoinPool())\n",
    "\n",
    "def longComputation(duration: Int): Future[Int] = {\n",
    "  // pretend as if time consuming work is being done\n",
    "  import java.lang.Thread.sleep\n",
    "  Future {\n",
    "    sleep(duration)\n",
    "    duration\n",
    "  }\n",
    "}\n",
    "\n",
    "val f3: Future[Int] = longComputation(100)"
   ]
  },
  {
   "cell_type": "markdown",
   "id": "3591b5e3-0756-46dc-a38e-0ca2d6bad18e",
   "metadata": {},
   "source": [
    "\n",
    "Note that when we run code like `Futuer(longComputation(100))`, the result that is returned an `Future` that has not yet been completed. Eventually, the value will be computed and available. However, this doesn't prevent as from writing code that will be executed after the value as been fulfilled. \n",
    "\n",
    "For example, we can pattern match on `Future`."
   ]
  },
  {
   "cell_type": "code",
   "execution_count": 56,
   "id": "974a0f8e-7308-468b-b1db-a8744d67fe0d",
   "metadata": {},
   "outputs": [
    {
     "data": {
      "text/plain": [
       "import scala.concurrent.{ExecutionContext, Future}\n",
       "import scala.util.{Success, Failure}\n",
       "import java.util.concurrent.ForkJoinPool\n",
       "ec: scala.concurrent.ExecutionContext = scala.concurrent.impl.ExecutionContextImpl@2ef92091\n",
       "longComputation: (duration: Int)scala.concurrent.Future[Int]\n",
       "f4: scala.concurrent.Future[String] = Future(<not completed>)\n"
      ]
     },
     "execution_count": 56,
     "metadata": {},
     "output_type": "execute_result"
    },
    {
     "name": "stdout",
     "output_type": "stream",
     "text": [
      "!hello world!\n"
     ]
    }
   ],
   "source": [
    "import scala.concurrent.{ExecutionContext, Future}\n",
    "import scala.util.{Success, Failure}\n",
    "import java.util.concurrent.ForkJoinPool\n",
    "\n",
    "implicit val ec: ExecutionContext = ExecutionContext.fromExecutor(new ForkJoinPool())\n",
    "\n",
    "def longComputation(duration: Int): Future[Int] = {\n",
    "  // pretend as if time consuming work is being done\n",
    "  import java.lang.Thread.sleep\n",
    "  Future {\n",
    "    sleep(duration)\n",
    "    duration\n",
    "  }\n",
    "}\n",
    "\n",
    "val f4: Future[String] = Future {\n",
    "  import java.lang.Thread.sleep\n",
    "  sleep(100)\n",
    "  \"hello \" + \"world!\"\n",
    "}\n",
    "\n",
    "f4.onComplete {\n",
    "  case Success(value) => println(\"!\" + value)\n",
    "  case Failure(ex) => println(\"something went wrong. we took too long to add two strings!\")\n",
    "}"
   ]
  },
  {
   "cell_type": "markdown",
   "id": "2c433892-287f-4f28-8059-b89787509a14",
   "metadata": {},
   "source": [
    "We can use familiar higher order functions and `for` expressions.\n"
   ]
  },
  {
   "cell_type": "code",
   "execution_count": 57,
   "id": "a447be9a-354d-4880-8bb9-9df9049c57e7",
   "metadata": {},
   "outputs": [
    {
     "data": {
      "text/plain": [
       "import scala.concurrent.{ExecutionContext, Future}\n",
       "import scala.util.{Success, Failure}\n",
       "import java.util.concurrent.ForkJoinPool\n",
       "ec: scala.concurrent.ExecutionContext = scala.concurrent.impl.ExecutionContextImpl@44b699e1\n",
       "longComputation: (duration: Int)scala.concurrent.Future[Int]\n",
       "f4: scala.concurrent.Future[String] = Future(<not completed>)\n",
       "f6: scala.concurrent.Future[Int] = Future(<not completed>)\n",
       "f7: scala.concurrent.Future[String] = Future(<not completed>)\n",
       "f8: scala.concurrent.Future[String] = Future(<not completed>)\n"
      ]
     },
     "execution_count": 57,
     "metadata": {},
     "output_type": "execute_result"
    }
   ],
   "source": [
    "import scala.concurrent.{ExecutionContext, Future}\n",
    "import scala.util.{Success, Failure}\n",
    "import java.util.concurrent.ForkJoinPool\n",
    "\n",
    "implicit val ec: ExecutionContext = ExecutionContext.fromExecutor(new ForkJoinPool())\n",
    "\n",
    "def longComputation(duration: Int): Future[Int] = {\n",
    "  // pretend as if time consuming work is being done\n",
    "  import java.lang.Thread.sleep\n",
    "  Future {\n",
    "    sleep(duration)\n",
    "    duration\n",
    "  }\n",
    "}\n",
    "\n",
    "val f4: Future[String] = Future {\n",
    "  import java.lang.Thread.sleep\n",
    "  sleep(100)\n",
    "  \"hello \" + \"world!\"\n",
    "}\n",
    "\n",
    "// use the result if the Future was successful, otherwise, do nothing.\n",
    "val f6: Future[Int] = longComputation(100).map(successfulResult => successfulResult + 100)\n",
    "val f7: Future[String] = longComputation(100).flatMap(r1 => longComputation(100).map(r2 => r1.toString + r2.toString))\n",
    "\n",
    "val f8: Future[String] = for {\n",
    "  r1 <- longComputation(100)\n",
    "  r2 <- longComputation(100)\n",
    "} yield (r1.toString + r2.toString)"
   ]
  },
  {
   "cell_type": "markdown",
   "id": "bd200885-8648-4bc1-a942-c8b705221447",
   "metadata": {},
   "source": [
    "There are many additional methods on `Future` that can be helpful. For example, `recover` allows us to specify how to handle specific types of exceptions. This is similar to `onComplete` but we do not have to specify the success case."
   ]
  },
  {
   "cell_type": "code",
   "execution_count": 58,
   "id": "78ba5c9c-06cb-459e-af81-5c2647260540",
   "metadata": {},
   "outputs": [
    {
     "data": {
      "text/plain": [
       "import scala.concurrent.{ExecutionContext, Future}\n",
       "import scala.util.{Success, Failure}\n",
       "import java.util.concurrent.ForkJoinPool\n",
       "ec: scala.concurrent.ExecutionContext = scala.concurrent.impl.ExecutionContextImpl@16af6a2b\n",
       "longComputation: (duration: Int)scala.concurrent.Future[Int]\n",
       "res34: scala.concurrent.Future[Int] = Future(<not completed>)\n"
      ]
     },
     "execution_count": 58,
     "metadata": {},
     "output_type": "execute_result"
    }
   ],
   "source": [
    "import scala.concurrent.{ExecutionContext, Future}\n",
    "import scala.util.{Success, Failure}\n",
    "import java.util.concurrent.ForkJoinPool\n",
    "\n",
    "implicit val ec: ExecutionContext = ExecutionContext.fromExecutor(new ForkJoinPool())\n",
    "\n",
    "def longComputation(duration: Int): Future[Int] = Future {\n",
    "  // pretend as if time consuming work is being done\n",
    "  import java.lang.Thread.sleep\n",
    "  sleep(duration)\n",
    "  throw new IllegalStateException\n",
    "}\n",
    "\n",
    "longComputation(100).recover {\n",
    "  case _: IllegalStateException => 0\n",
    "}"
   ]
  },
  {
   "cell_type": "markdown",
   "id": "aa0f132d-d15e-40c2-84a3-65c7e416c254",
   "metadata": {},
   "source": [
    "There are many other functions and details to the workings of `Future`. The Scala documentation provides a great overview of most of the features and additional functionality. You can find those details here: [https://docs.scala-lang.org/overviews/core/futures.html](https://docs.scala-lang.org/overviews/core/futures.html)"
   ]
  },
  {
   "cell_type": "markdown",
   "id": "b190f743-c582-4a13-8938-e4a589acdf2c",
   "metadata": {},
   "source": [
    "***\n",
    "### part of Scala 101: cognitiveclass.ai lab"
   ]
  }
 ],
 "metadata": {
  "kernelspec": {
   "display_name": "spylon-kernel",
   "language": "scala",
   "name": "spylon-kernel"
  },
  "language_info": {
   "codemirror_mode": "text/x-scala",
   "file_extension": ".scala",
   "help_links": [
    {
     "text": "MetaKernel Magics",
     "url": "https://metakernel.readthedocs.io/en/latest/source/README.html"
    }
   ],
   "mimetype": "text/x-scala",
   "name": "scala",
   "pygments_lexer": "scala",
   "version": "0.4.1"
  }
 },
 "nbformat": 4,
 "nbformat_minor": 5
}
