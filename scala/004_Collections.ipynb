{
 "cells": [
  {
   "cell_type": "markdown",
   "metadata": {},
   "source": [
    " <a id=\"ref1\"></a>\n",
    "\n",
    "## 4.1  Collections overview"
   ]
  },
  {
   "cell_type": "markdown",
   "metadata": {},
   "source": [
    "The following diagram summarises the Scala collections hierarchy "
   ]
  },
  {
   "cell_type": "markdown",
   "metadata": {},
   "source": [
    " <img src = \"image/collection.png\" width = 1000, align = \"center\"></a>\n"
   ]
  },
  {
   "cell_type": "markdown",
   "metadata": {},
   "source": [
    "In the rest of this lab we will review many of the nodes in this graph, check out the \"COLLECTIONS OVERVIEW\" video in Module 4 for more information "
   ]
  },
  {
   "cell_type": "markdown",
   "metadata": {},
   "source": [
    " <a id=\"ref2\"></a>\n",
    "\n",
    "## 4.2  Sequences and Sets"
   ]
  },
  {
   "cell_type": "markdown",
   "metadata": {},
   "source": [
    "### By the end of this section you should be able to:\n",
    "\n",
    "<ul>\n",
    "  <li>Describe the various kinds of sequence collections and their properties  </li>\n",
    "  <li>Outline the desirable properties of the Vector collection type </li>\n",
    "  <li>Describe the features of set collections  </li>\n",
    "</ul>  \n",
    "\n"
   ]
  },
  {
   "cell_type": "markdown",
   "metadata": {},
   "source": [
    "###  Arrays: "
   ]
  },
  {
   "cell_type": "markdown",
   "metadata": {},
   "source": [
    "<ul>\n",
    "Here are some properties of arrays: \n",
    "  <li> Arrays are an <b>ordered sequence</b> of data that is fixed in size</li>\n",
    "  <li>Arrays are fast on the JVM </li>\n",
    "  <li> Array values are contiguous in memory  </li>\n",
    "    <li>Arrays are indexed by position   </li>\n",
    "    <li>Array are <b>mutable</b></li>\n",
    "</ul>"
   ]
  },
  {
   "cell_type": "markdown",
   "metadata": {},
   "source": [
    " You can create an array using the following command:"
   ]
  },
  {
   "cell_type": "code",
   "execution_count": 4,
   "metadata": {},
   "outputs": [
    {
     "name": "stdout",
     "output_type": "stream",
     "text": [
      "[I@6cd18cbc\n",
      "[Ljava.lang.Object;@5ea64e3d\n"
     ]
    },
    {
     "data": {
      "text/plain": [
       "FirstArray: Array[Int] = Array(1, 2, 3, 4, 5)\n",
       "myArray: Array[Any] = Array(13, 14, 15, 16, hello)\n"
      ]
     },
     "execution_count": 4,
     "metadata": {},
     "output_type": "execute_result"
    }
   ],
   "source": [
    "val FirstArray = Array(1,2,3,4,5)\n",
    "println(FirstArray)\n",
    "val myArray = Array(13,14,15,16,\"hello\")\n",
    "println(myArray)"
   ]
  },
  {
   "cell_type": "markdown",
   "metadata": {},
   "source": [
    " Arrays are zero-based as shown in the following figure:"
   ]
  },
  {
   "cell_type": "markdown",
   "metadata": {},
   "source": [
    " <img src = \"image/array1.png\" width = 1000, align = \"center\"></a>\n",
    "\n",
    "<h1 align=center><font size = 3>Array with equivalent indexes </font></h1>"
   ]
  },
  {
   "cell_type": "markdown",
   "metadata": {},
   "source": [
    "You  can access the first value of an array as follows :"
   ]
  },
  {
   "cell_type": "code",
   "execution_count": 7,
   "metadata": {},
   "outputs": [
    {
     "name": "stdout",
     "output_type": "stream",
     "text": [
      "1\n",
      "hello\n"
     ]
    }
   ],
   "source": [
    "println(FirstArray(0))\n",
    "println(myArray(4))"
   ]
  },
  {
   "cell_type": "markdown",
   "metadata": {},
   "source": [
    "You can access the second value:"
   ]
  },
  {
   "cell_type": "code",
   "execution_count": 8,
   "metadata": {},
   "outputs": [
    {
     "data": {
      "text/plain": [
       "res4: Int = 2\n"
      ]
     },
     "execution_count": 8,
     "metadata": {},
     "output_type": "execute_result"
    }
   ],
   "source": [
    "FirstArray(1)"
   ]
  },
  {
   "cell_type": "markdown",
   "metadata": {},
   "source": [
    "and set the last value"
   ]
  },
  {
   "cell_type": "code",
   "execution_count": 9,
   "metadata": {
    "tags": []
   },
   "outputs": [],
   "source": [
    "FirstArray(4) = 5"
   ]
  },
  {
   "cell_type": "markdown",
   "metadata": {},
   "source": [
    "We can print the array by using the method \"foreach\" to apply the \"println\" function."
   ]
  },
  {
   "cell_type": "code",
   "execution_count": 13,
   "metadata": {},
   "outputs": [
    {
     "name": "stdout",
     "output_type": "stream",
     "text": [
      "1\n",
      "2\n",
      "3\n",
      "4\n",
      "5\n"
     ]
    }
   ],
   "source": [
    "FirstArray.foreach(println)"
   ]
  },
  {
   "cell_type": "code",
   "execution_count": 14,
   "metadata": {},
   "outputs": [
    {
     "name": "stdout",
     "output_type": "stream",
     "text": [
      "1\n",
      "2\n",
      "3\n",
      "4\n",
      "5\n"
     ]
    },
    {
     "data": {
      "text/plain": [
       "res10: Array[Unit] = Array((), (), (), (), ())\n"
      ]
     },
     "execution_count": 14,
     "metadata": {},
     "output_type": "execute_result"
    }
   ],
   "source": [
    "FirstArray.map(println)"
   ]
  },
  {
   "cell_type": "markdown",
   "metadata": {},
   "source": [
    " Arrays are mutable, as a result you can change them. For example, you can change the 5-th  element to 4 and print the result:"
   ]
  },
  {
   "cell_type": "code",
   "execution_count": 15,
   "metadata": {},
   "outputs": [
    {
     "name": "stdout",
     "output_type": "stream",
     "text": [
      "1\n",
      "2\n",
      "3\n",
      "4\n",
      "100000\n"
     ]
    }
   ],
   "source": [
    "FirstArray(4) = 100000\n",
    "FirstArray.foreach(println)"
   ]
  },
  {
   "cell_type": "markdown",
   "metadata": {},
   "source": [
    "Once you create an array, you can not change the size, for example, if you try to add a 6-th  element you will get an error, try running the following line of code:\n"
   ]
  },
  {
   "cell_type": "code",
   "execution_count": 16,
   "metadata": {},
   "outputs": [
    {
     "ename": "java.lang.ArrayIndexOutOfBoundsException",
     "evalue": " 5",
     "output_type": "error",
     "traceback": [
      "java.lang.ArrayIndexOutOfBoundsException: 5",
      "  ... 38 elided",
      ""
     ]
    }
   ],
   "source": [
    "FirstArray(5)"
   ]
  },
  {
   "cell_type": "markdown",
   "metadata": {},
   "source": [
    "<h1>  Question  4.1: </h1>\n",
    "<p> \n",
    "Create an Array A such that: A[0]:\"A\",A[1]:1,A[2]:\"B\",A[3]:2 .</b>\n",
    "</p>\n"
   ]
  },
  {
   "cell_type": "code",
   "execution_count": 17,
   "metadata": {
    "tags": []
   },
   "outputs": [
    {
     "data": {
      "text/plain": [
       "A: Array[Any] = Array(A, 1, B, 2)\n"
      ]
     },
     "execution_count": 17,
     "metadata": {},
     "output_type": "execute_result"
    }
   ],
   "source": [
    "val A = Array(\"A\", 1, \"B\", 2)"
   ]
  },
  {
   "cell_type": "markdown",
   "metadata": {},
   "source": [
    "\n",
    "<h1>  Question  4.2: </h1>\n",
    "<p> \n",
    "The second element of the array \"A\" has a value of 1, convert it to a value of \"one\" .</b>\n",
    "</p>\n"
   ]
  },
  {
   "cell_type": "code",
   "execution_count": 20,
   "metadata": {
    "tags": []
   },
   "outputs": [
    {
     "name": "stdout",
     "output_type": "stream",
     "text": [
      "(Before A(1):,One)\n",
      "(After  A(1):,one)\n"
     ]
    }
   ],
   "source": [
    "println(\"Before A(1):\", A(1))\n",
    "A(1) = \"one\"\n",
    "println(\"After  A(1):\", A(1))"
   ]
  },
  {
   "cell_type": "markdown",
   "metadata": {},
   "source": [
    "<h1>  Question  4.3: </h1>\n",
    "<p> \n",
    "Will the following line of code run A(4)=4, if not why.</b>\n",
    "</p>"
   ]
  },
  {
   "cell_type": "markdown",
   "metadata": {},
   "source": [
    "</div>\n",
    "<div id=\"q45\" class=\"collapse\">\n",
    "<pre>\n",
    "\n",
    "No, even though array are mutable, the length is fixed and index 4 in out of bounds.\n",
    "</pre>\n",
    "</div>"
   ]
  },
  {
   "cell_type": "markdown",
   "metadata": {},
   "source": [
    "###  Lists: "
   ]
  },
  {
   "cell_type": "markdown",
   "metadata": {},
   "source": [
    " <ul>\n",
    " Here are some properties of lists: \n",
    "  <li>Lists are implemented pairs of head and tail.</li>\n",
    "  <li>Theoretically limitless in size  </li>\n",
    "  <li>Look ups are fast when accessing the head of the list. Random access is less performant because the list has to be traversed before an element can be retreived.</li>\n",
    "</ul>  "
   ]
  },
  {
   "cell_type": "code",
   "execution_count": 21,
   "metadata": {},
   "outputs": [
    {
     "data": {
      "text/plain": [
       "FirstList: List[Int] = List(1, 2, 3, 4, 5)\n",
       "res15: List[Int] = List(1, 2, 3, 4, 5)\n"
      ]
     },
     "execution_count": 21,
     "metadata": {},
     "output_type": "execute_result"
    }
   ],
   "source": [
    "val FirstList = List(1,2,3,4,5)\n",
    "FirstList"
   ]
  },
  {
   "cell_type": "markdown",
   "metadata": {},
   "source": [
    "Lists are zero-based as shown in the following figure:"
   ]
  },
  {
   "cell_type": "markdown",
   "metadata": {},
   "source": [
    " <img src = \"image/firstlist.png\" width = 1000, align = \"center\"></a>\n",
    "\n",
    "<h1 align=center><font size = 3>List with equivalent indexes </font></h1>"
   ]
  },
  {
   "cell_type": "markdown",
   "metadata": {},
   "source": [
    "you can access the first, second or third element as follows:"
   ]
  },
  {
   "cell_type": "code",
   "execution_count": 22,
   "metadata": {},
   "outputs": [
    {
     "name": "stdout",
     "output_type": "stream",
     "text": [
      "(1st element,1)\n",
      "(second element,2)\n",
      "(third element ,3)\n"
     ]
    }
   ],
   "source": [
    "println(\"1st element\", FirstList(0))\n",
    "println(\"second element\", FirstList(1))\n",
    "println(\"third element \", FirstList(2))\n"
   ]
  },
  {
   "cell_type": "markdown",
   "metadata": {},
   "source": [
    "Lists are immutable as a result you can't change them "
   ]
  },
  {
   "cell_type": "code",
   "execution_count": 23,
   "metadata": {},
   "outputs": [
    {
     "ename": "<console>",
     "evalue": "26: error: value update is not a member of List[Int]",
     "output_type": "error",
     "traceback": [
      "<console>:26: error: value update is not a member of List[Int]",
      "       FirstList(0) = \"A\"",
      "       ^",
      ""
     ]
    }
   ],
   "source": [
    "FirstList(0) = \"A\""
   ]
  },
  {
   "cell_type": "markdown",
   "metadata": {},
   "source": [
    "\n",
    "you can create a new list and add a value to a list by <b>appending</b> with a colon and an addition sign "
   ]
  },
  {
   "cell_type": "code",
   "execution_count": 24,
   "metadata": {},
   "outputs": [
    {
     "data": {
      "text/plain": [
       "SecondList: List[Int] = List(1, 2, 3, 4, 5, 6)\n",
       "res18: List[Int] = List(1, 2, 3, 4, 5, 6)\n"
      ]
     },
     "execution_count": 24,
     "metadata": {},
     "output_type": "execute_result"
    }
   ],
   "source": [
    "val SecondList = FirstList :+ 6\n",
    "SecondList"
   ]
  },
  {
   "cell_type": "markdown",
   "metadata": {},
   "source": [
    " you can <b> prepend</b> the item on a list as follows "
   ]
  },
  {
   "cell_type": "code",
   "execution_count": 25,
   "metadata": {},
   "outputs": [
    {
     "data": {
      "text/plain": [
       "ThirdList: List[Int] = List(0, 1, 2, 3, 4, 5, 6)\n",
       "res19: List[Int] = List(0, 1, 2, 3, 4, 5, 6)\n"
      ]
     },
     "execution_count": 25,
     "metadata": {},
     "output_type": "execute_result"
    }
   ],
   "source": [
    "val ThirdList = 0 +: SecondList\n",
    "ThirdList"
   ]
  },
  {
   "cell_type": "markdown",
   "metadata": {},
   "source": [
    " As lists are sequences, you can add duplicate values "
   ]
  },
  {
   "cell_type": "code",
   "execution_count": 26,
   "metadata": {},
   "outputs": [
    {
     "data": {
      "text/plain": [
       "LastList: List[Any] = List(A, A, 1, 1, B, B, 2, 2)\n",
       "res20: List[Any] = List(A, A, 1, 1, B, B, 2, 2)\n"
      ]
     },
     "execution_count": 26,
     "metadata": {},
     "output_type": "execute_result"
    }
   ],
   "source": [
    "val LastList = List(\"A\",\"A\",1,1,\"B\",\"B\",2,2)\n",
    "LastList"
   ]
  },
  {
   "cell_type": "markdown",
   "metadata": {},
   "source": [
    " As illustrated by the above cell, as lists are sequences they can have duplicate values. We can remove duplicates  and assign them to other values using the distinct method."
   ]
  },
  {
   "cell_type": "code",
   "execution_count": 27,
   "metadata": {},
   "outputs": [
    {
     "data": {
      "text/plain": [
       "DistinctList: List[Any] = List(A, 1, B, 2)\n",
       "res21: List[Any] = List(A, 1, B, 2)\n"
      ]
     },
     "execution_count": 27,
     "metadata": {},
     "output_type": "execute_result"
    }
   ],
   "source": [
    "val DistinctList = LastList.distinct\n",
    "DistinctList"
   ]
  },
  {
   "cell_type": "markdown",
   "metadata": {},
   "source": [
    "\n",
    "<h1>  Question  4.4: </h1>\n",
    "<p> \n",
    "Create the list with \"WrongAlphabet\" the elements B,C,D </b>\n",
    "</p>"
   ]
  },
  {
   "cell_type": "code",
   "execution_count": 28,
   "metadata": {
    "tags": []
   },
   "outputs": [
    {
     "data": {
      "text/plain": [
       "WrongAlphabet: List[String] = List(B, C, D)\n"
      ]
     },
     "execution_count": 28,
     "metadata": {},
     "output_type": "execute_result"
    }
   ],
   "source": [
    "val WrongAlphabet = List(\"B\", \"C\", \"D\")"
   ]
  },
  {
   "cell_type": "markdown",
   "metadata": {},
   "source": [
    "\n",
    "<h1>  Question  4.5: </h1>\n",
    "<p> \n",
    "Prepend the letter \"A\" and append the letter \"E\" and assign it the variable  \"Alphabet\"</b>\n",
    "</p>"
   ]
  },
  {
   "cell_type": "code",
   "execution_count": 32,
   "metadata": {},
   "outputs": [
    {
     "data": {
      "text/plain": [
       "Alphabet: List[String] = List(A, B, C, D, E)\n",
       "res25: List[String] = List(A, B, C, D, E)\n"
      ]
     },
     "execution_count": 32,
     "metadata": {},
     "output_type": "execute_result"
    }
   ],
   "source": [
    "val Alphabet = \"A\" +: WrongAlphabet :+ \"E\"\n",
    "Alphabet"
   ]
  },
  {
   "cell_type": "markdown",
   "metadata": {},
   "source": [
    "# Vector "
   ]
  },
  {
   "cell_type": "markdown",
   "metadata": {},
   "source": [
    " Vectors are similar to lists but have properties that allow you to access the values faster. Some of the properties can be summarised as followed:"
   ]
  },
  {
   "cell_type": "markdown",
   "metadata": {},
   "source": [
    " <ul>\n",
    "  <li>A linked list of 32 elements arrays  </li>\n",
    "  <li>T1.15 billion possible elements  </li>\n",
    "  <li>Indexed by hashing  </li>\n",
    "</ul>  "
   ]
  },
  {
   "cell_type": "code",
   "execution_count": 33,
   "metadata": {},
   "outputs": [
    {
     "data": {
      "text/plain": [
       "FistVector: scala.collection.immutable.Vector[Int] = Vector(1, 2, 3, 4, 5)\n",
       "res26: scala.collection.immutable.Vector[Int] = Vector(1, 2, 3, 4, 5)\n"
      ]
     },
     "execution_count": 33,
     "metadata": {},
     "output_type": "execute_result"
    }
   ],
   "source": [
    "val FistVector = Vector(1,2,3,4,5)\n",
    "FistVector"
   ]
  },
  {
   "cell_type": "markdown",
   "metadata": {},
   "source": [
    " you can access the first, second and third element as follows:"
   ]
  },
  {
   "cell_type": "code",
   "execution_count": 34,
   "metadata": {},
   "outputs": [
    {
     "name": "stdout",
     "output_type": "stream",
     "text": [
      "1st element: 1\n",
      "second element: 2\n",
      "third element: 3\n"
     ]
    }
   ],
   "source": [
    "println(\"1st element: \" + FistVector(0))\n",
    "println(\"second element: \" + FistVector(1))\n",
    "println(\"third element: \" + FistVector(2))"
   ]
  },
  {
   "cell_type": "markdown",
   "metadata": {},
   "source": [
    "vectors are immutable, uncomment the following code to see what happens when you try to change an element of a vector "
   ]
  },
  {
   "cell_type": "markdown",
   "metadata": {},
   "source": [
    "FistVector(0)=1"
   ]
  },
  {
   "cell_type": "markdown",
   "metadata": {},
   "source": [
    "you can append a element as follows "
   ]
  },
  {
   "cell_type": "code",
   "execution_count": 35,
   "metadata": {},
   "outputs": [
    {
     "ename": "<console>",
     "evalue": "26: error: value update is not a member of scala.collection.immutable.Vector[Int]",
     "output_type": "error",
     "traceback": [
      "<console>:26: error: value update is not a member of scala.collection.immutable.Vector[Int]",
      "       FistVector(0)=1",
      "       ^",
      ""
     ]
    }
   ],
   "source": [
    "FistVector(0)=1"
   ]
  },
  {
   "cell_type": "code",
   "execution_count": 36,
   "metadata": {},
   "outputs": [
    {
     "data": {
      "text/plain": [
       "SecondVector: scala.collection.immutable.Vector[Int] = Vector(1, 2, 3, 4, 5, 6)\n",
       "res29: scala.collection.immutable.Vector[Int] = Vector(1, 2, 3, 4, 5, 6)\n"
      ]
     },
     "execution_count": 36,
     "metadata": {},
     "output_type": "execute_result"
    }
   ],
   "source": [
    "val SecondVector = FistVector :+ 6\n",
    "SecondVector"
   ]
  },
  {
   "cell_type": "markdown",
   "metadata": {},
   "source": [
    " you can <b> prepend</b> an item "
   ]
  },
  {
   "cell_type": "code",
   "execution_count": 38,
   "metadata": {},
   "outputs": [
    {
     "data": {
      "text/plain": [
       "ThirdVector: scala.collection.immutable.Vector[Int] = Vector(0, 1, 2, 3, 4, 5)\n",
       "res31: scala.collection.immutable.Vector[Int] = Vector(0, 1, 2, 3, 4, 5)\n"
      ]
     },
     "execution_count": 38,
     "metadata": {},
     "output_type": "execute_result"
    }
   ],
   "source": [
    "val ThirdVector = 0 +: FistVector\n",
    "ThirdVector"
   ]
  },
  {
   "cell_type": "markdown",
   "metadata": {},
   "source": [
    " "
   ]
  },
  {
   "cell_type": "markdown",
   "metadata": {},
   "source": [
    "# Set "
   ]
  },
  {
   "cell_type": "markdown",
   "metadata": {},
   "source": [
    "Sets are a\" bag of data,\" were no duplicates are\n",
    "permitted. The order is not guaranteed inside of the set. We can create a set as follows:"
   ]
  },
  {
   "cell_type": "code",
   "execution_count": 41,
   "metadata": {},
   "outputs": [
    {
     "data": {
      "text/plain": [
       "FirstSet: scala.collection.immutable.Set[Int] = Set(0, 1, 2, 3, 4)\n",
       "res34: scala.collection.immutable.Set[Int] = Set(0, 1, 2, 3, 4)\n"
      ]
     },
     "execution_count": 41,
     "metadata": {},
     "output_type": "execute_result"
    }
   ],
   "source": [
    "val FirstSet = Set(0,1,2,3,4)\n",
    "FirstSet"
   ]
  },
  {
   "cell_type": "markdown",
   "metadata": {},
   "source": [
    "This set as the elements 0,1,2,3,4 you can insert an element into a set using the \"+\" as follows and assign it to the second set \"SecondSet\": "
   ]
  },
  {
   "cell_type": "code",
   "execution_count": 42,
   "metadata": {},
   "outputs": [
    {
     "data": {
      "text/plain": [
       "SecondSet: scala.collection.immutable.Set[Int] = Set(0, 5, 1, 2, 3, 4)\n",
       "res35: scala.collection.immutable.Set[Int] = Set(0, 5, 1, 2, 3, 4)\n"
      ]
     },
     "execution_count": 42,
     "metadata": {},
     "output_type": "execute_result"
    }
   ],
   "source": [
    "val SecondSet = FirstSet + 5\n",
    "SecondSet"
   ]
  },
  {
   "cell_type": "markdown",
   "metadata": {},
   "source": [
    "As a result, the set now contains a 5, the elements 0,1,2,3,4,5. As there are no duplicates in a set we can add another 5 to the set  and assign it to the variable \"ThirdSet\" :"
   ]
  },
  {
   "cell_type": "code",
   "execution_count": 43,
   "metadata": {},
   "outputs": [
    {
     "data": {
      "text/plain": [
       "ThirdSet: scala.collection.immutable.Set[Int] = Set(0, 5, 1, 2, 3, 4)\n",
       "res36: scala.collection.immutable.Set[Int] = Set(0, 5, 1, 2, 3, 4)\n"
      ]
     },
     "execution_count": 43,
     "metadata": {},
     "output_type": "execute_result"
    }
   ],
   "source": [
    "val ThirdSet = SecondSet + 5\n",
    "ThirdSet "
   ]
  },
  {
   "cell_type": "markdown",
   "metadata": {},
   "source": [
    "The two sets have the exact same number of elements, we can verify this using the familiar equality syntax:"
   ]
  },
  {
   "cell_type": "code",
   "execution_count": 44,
   "metadata": {},
   "outputs": [
    {
     "data": {
      "text/plain": [
       "res37: Boolean = true\n"
      ]
     },
     "execution_count": 44,
     "metadata": {},
     "output_type": "execute_result"
    }
   ],
   "source": [
    "ThirdSet == SecondSet"
   ]
  },
  {
   "cell_type": "markdown",
   "metadata": {},
   "source": [
    "<h1>  Question  4.6: </h1>\n",
    "<p> \n",
    "Create a new  set \" Set3\" from \"Set2\"   the has all the same elements as \"Set1\"and verify they are equal </b>\n",
    "</p>"
   ]
  },
  {
   "cell_type": "code",
   "execution_count": 45,
   "metadata": {
    "tags": []
   },
   "outputs": [
    {
     "data": {
      "text/plain": [
       "Set1: scala.collection.immutable.Set[String] = Set(A, B, C)\n",
       "Set2: scala.collection.immutable.Set[String] = Set(A, B)\n",
       "Set3: scala.collection.immutable.Set[String] = Set(A, B, C)\n",
       "res38: Boolean = true\n"
      ]
     },
     "execution_count": 45,
     "metadata": {},
     "output_type": "execute_result"
    }
   ],
   "source": [
    "val Set1=Set(\"A\",\"B\",\"C\")\n",
    "val Set2=Set(\"A\",\"B\")\n",
    "val Set3=Set2 + \"C\"\n",
    "Set3 == Set1"
   ]
  },
  {
   "cell_type": "markdown",
   "metadata": {},
   "source": [
    " <a id=\"ref3\"></a>\n",
    "## 4.3 Options"
   ]
  },
  {
   "cell_type": "markdown",
   "metadata": {},
   "source": [
    "### By the end of this section you should be able to:\n",
    "\n",
    "<ul>\n",
    "  <li>describe the relevance of option in the Scala type syst  </li>\n",
    "  <li>outline how to use option inside of your types  </li>\n",
    "  \n",
    "  \n",
    "</ul>  \n",
    "\n"
   ]
  },
  {
   "cell_type": "markdown",
   "metadata": {},
   "source": [
    "consider the option of a string "
   ]
  },
  {
   "cell_type": "code",
   "execution_count": 46,
   "metadata": {},
   "outputs": [
    {
     "data": {
      "text/plain": [
       "Name: Option[String] = Some(Jamie)\n",
       "res39: Option[String] = Some(Jamie)\n"
      ]
     },
     "execution_count": 46,
     "metadata": {},
     "output_type": "execute_result"
    }
   ],
   "source": [
    "val Name = Option(\"Jamie\")\n",
    "Name"
   ]
  },
  {
   "cell_type": "markdown",
   "metadata": {},
   "source": [
    "I can get the value inside the wrapping"
   ]
  },
  {
   "cell_type": "code",
   "execution_count": 47,
   "metadata": {},
   "outputs": [
    {
     "data": {
      "text/plain": [
       "res40: String = Jamie\n"
      ]
     },
     "execution_count": 47,
     "metadata": {},
     "output_type": "execute_result"
    }
   ],
   "source": [
    "Name.get"
   ]
  },
  {
   "cell_type": "markdown",
   "metadata": {},
   "source": [
    " Its better practice to use the \"getOrElse()\" method,  if the element is not present it will return the option, in this case, \"Jamie\". Consider if we look for Bob, as Bob is not in the string the value Jamie is returned."
   ]
  },
  {
   "cell_type": "code",
   "execution_count": 48,
   "metadata": {},
   "outputs": [
    {
     "data": {
      "text/plain": [
       "res41: String = Jamie\n"
      ]
     },
     "execution_count": 48,
     "metadata": {},
     "output_type": "execute_result"
    }
   ],
   "source": [
    "Name.getOrElse(\"Bob\")"
   ]
  },
  {
   "cell_type": "markdown",
   "metadata": {},
   "source": [
    " <a id=\"ref4\"></a>\n",
    "## 4.4 Tuples and Maps "
   ]
  },
  {
   "cell_type": "markdown",
   "metadata": {},
   "source": [
    "### By the end of this section you should be able to:\n",
    "\n",
    "<ul>\n",
    "  <li>to describe what is a tuple  and how they are used </li>\n",
    "  <li>Outline how to deconstruct tuples   </li>\n",
    " <li>Describe the properties of map   </li>\n",
    "</ul>  \n"
   ]
  },
  {
   "cell_type": "markdown",
   "metadata": {},
   "source": [
    "### Tuples "
   ]
  },
  {
   "cell_type": "markdown",
   "metadata": {},
   "source": [
    "Tuples can be used to wrap different types of data ; they can have up to 22 values. Typically, tuples are created with parentheses. You can also create tuples explicitly by class that guarantess how many elements a tuple will have. Here are two examples of  how to generate a tuple of 2 elements:"
   ]
  },
  {
   "cell_type": "code",
   "execution_count": 49,
   "metadata": {},
   "outputs": [
    {
     "data": {
      "text/plain": [
       "res42: (Int, String) = (1,a)\n"
      ]
     },
     "execution_count": 49,
     "metadata": {},
     "output_type": "execute_result"
    }
   ],
   "source": [
    "Tuple2(1,\"a\")"
   ]
  },
  {
   "cell_type": "code",
   "execution_count": 50,
   "metadata": {},
   "outputs": [
    {
     "data": {
      "text/plain": [
       "res43: (Int, String) = (1,a)\n"
      ]
     },
     "execution_count": 50,
     "metadata": {},
     "output_type": "execute_result"
    }
   ],
   "source": [
    "(1,\"a\")"
   ]
  },
  {
   "cell_type": "markdown",
   "metadata": {},
   "source": [
    "Tuples can be accessed using a 1-based accessor; we can access the first two elements as follows:"
   ]
  },
  {
   "cell_type": "code",
   "execution_count": 51,
   "metadata": {},
   "outputs": [
    {
     "name": "stdout",
     "output_type": "stream",
     "text": [
      "(First index:,1)\n",
      "(Second index:,a)\n"
     ]
    },
    {
     "data": {
      "text/plain": [
       "fist_tuple: (Int, String) = (1,a)\n"
      ]
     },
     "execution_count": 51,
     "metadata": {},
     "output_type": "execute_result"
    }
   ],
   "source": [
    "val fist_tuple=(1,\"a\")\n",
    "println(\"First index:\",fist_tuple._1)\n",
    "println(\"Second index:\",fist_tuple._2)"
   ]
  },
  {
   "cell_type": "markdown",
   "metadata": {},
   "source": [
    "<h1>  Question  4.7: </h1>\n",
    "<p> \n",
    "Create a tuple with for elements: 1, \"a\",3,\"b\" just using parenthesis   \n",
    "</p>\n"
   ]
  },
  {
   "cell_type": "code",
   "execution_count": 52,
   "metadata": {
    "tags": []
   },
   "outputs": [
    {
     "data": {
      "text/plain": [
       "res45: (Int, String, Int, String) = (1,a,3,b)\n"
      ]
     },
     "execution_count": 52,
     "metadata": {},
     "output_type": "execute_result"
    }
   ],
   "source": [
    "(1, \"a\", 3, \"b\")"
   ]
  },
  {
   "cell_type": "markdown",
   "metadata": {},
   "source": [
    "<pre>\n",
    "(1,\"a\",2,\"b\")\n",
    "</pre>\n",
    "\n",
    "\n",
    "\n",
    "\n"
   ]
  },
  {
   "cell_type": "markdown",
   "metadata": {},
   "source": [
    "\n",
    "tuples can be deconstructed into names bound to each value in a tuple "
   ]
  },
  {
   "cell_type": "code",
   "execution_count": 53,
   "metadata": {},
   "outputs": [
    {
     "data": {
      "text/plain": [
       "tuple: (Int, String, Int, String) = (1,a,2,b)\n"
      ]
     },
     "execution_count": 53,
     "metadata": {},
     "output_type": "execute_result"
    }
   ],
   "source": [
    "val tuple = (1,\"a\",2,\"b\")"
   ]
  },
  {
   "cell_type": "markdown",
   "metadata": {},
   "source": [
    " You can deconstruct a tuple, simply assign the tuple to another tuple with the variables you would like to bind each element too.  For example, you can bind the first, second, third and fourth element of the variable “tuple” to the variable `first`, `second`, `third` and `forth` as follows:"
   ]
  },
  {
   "cell_type": "code",
   "execution_count": 55,
   "metadata": {},
   "outputs": [
    {
     "name": "stdout",
     "output_type": "stream",
     "text": [
      "(first= ,1)(second= ,a)(third= ,2)(fourth= ,b)"
     ]
    },
    {
     "data": {
      "text/plain": [
       "first: Int = 1\n",
       "second: String = a\n",
       "third: Int = 2\n",
       "fourth: String = b\n"
      ]
     },
     "execution_count": 55,
     "metadata": {},
     "output_type": "execute_result"
    }
   ],
   "source": [
    "val (first, second, third, fourth) = tuple\n",
    "print(\"first= \",first)\n",
    "print(\"second= \",second)\n",
    "print(\"third= \",third)\n",
    "print(\"fourth= \",fourth)"
   ]
  },
  {
   "cell_type": "markdown",
   "metadata": {},
   "source": [
    "the variable  take on the values in the tuple accordingly "
   ]
  },
  {
   "cell_type": "code",
   "execution_count": 56,
   "metadata": {},
   "outputs": [
    {
     "data": {
      "text/plain": [
       "res47: Int = 1\n"
      ]
     },
     "execution_count": 56,
     "metadata": {},
     "output_type": "execute_result"
    }
   ],
   "source": [
    "first"
   ]
  },
  {
   "cell_type": "code",
   "execution_count": 57,
   "metadata": {},
   "outputs": [
    {
     "data": {
      "text/plain": [
       "res48: String = a\n"
      ]
     },
     "execution_count": 57,
     "metadata": {},
     "output_type": "execute_result"
    }
   ],
   "source": [
    "second"
   ]
  },
  {
   "cell_type": "code",
   "execution_count": 58,
   "metadata": {},
   "outputs": [
    {
     "data": {
      "text/plain": [
       "res49: Int = 2\n"
      ]
     },
     "execution_count": 58,
     "metadata": {},
     "output_type": "execute_result"
    }
   ],
   "source": [
    "third"
   ]
  },
  {
   "cell_type": "code",
   "execution_count": 59,
   "metadata": {},
   "outputs": [
    {
     "data": {
      "text/plain": [
       "res50: String = b\n"
      ]
     },
     "execution_count": 59,
     "metadata": {},
     "output_type": "execute_result"
    }
   ],
   "source": [
    "fourth"
   ]
  },
  {
   "cell_type": "markdown",
   "metadata": {},
   "source": [
    " the process is illustrated in the following figure "
   ]
  },
  {
   "cell_type": "markdown",
   "metadata": {},
   "source": [
    " <img src = \"image/unpack.png\" width = 1000, align = \"center\"></a>\n",
    "\n",
    "<h1 align=center><font size = 3>illustration of deconstructing a tuple</font></h1>"
   ]
  },
  {
   "cell_type": "markdown",
   "metadata": {},
   "source": [
    "Tuples with two elements are frequently called a pair and they have a unique syntax for values. You can create the Tuple with two elements the standard way:\n"
   ]
  },
  {
   "cell_type": "code",
   "execution_count": 61,
   "metadata": {},
   "outputs": [
    {
     "data": {
      "text/plain": [
       "res52: (Int, String) = (1,a)\n"
      ]
     },
     "execution_count": 61,
     "metadata": {},
     "output_type": "execute_result"
    }
   ],
   "source": [
    "(1,\"a\")"
   ]
  },
  {
   "cell_type": "markdown",
   "metadata": {},
   "source": [
    "You can also use the “->” as follows to create a tuple:"
   ]
  },
  {
   "cell_type": "code",
   "execution_count": 62,
   "metadata": {},
   "outputs": [
    {
     "data": {
      "text/plain": [
       "res53: (Int, String) = (2,b)\n"
      ]
     },
     "execution_count": 62,
     "metadata": {},
     "output_type": "execute_result"
    }
   ],
   "source": [
    " 2 -> \"b\""
   ]
  },
  {
   "cell_type": "markdown",
   "metadata": {},
   "source": [
    " You can use this rocket symbol “->” to nest tuples that consist of two elements:"
   ]
  },
  {
   "cell_type": "code",
   "execution_count": 63,
   "metadata": {},
   "outputs": [
    {
     "data": {
      "text/plain": [
       "res54: ((Int, String), Int) = ((3,c),4)\n"
      ]
     },
     "execution_count": 63,
     "metadata": {},
     "output_type": "execute_result"
    }
   ],
   "source": [
    "3 -> \"c\" -> 4 "
   ]
  },
  {
   "cell_type": "markdown",
   "metadata": {},
   "source": [
    " you can repeat the process "
   ]
  },
  {
   "cell_type": "code",
   "execution_count": 64,
   "metadata": {},
   "outputs": [
    {
     "data": {
      "text/plain": [
       "res55: (((((Int, Int), Int), Int), Int), Int) = (((((0,0),1),2),3),4)\n"
      ]
     },
     "execution_count": 64,
     "metadata": {},
     "output_type": "execute_result"
    }
   ],
   "source": [
    "0 -> 0 -> 1 -> 2 -> 3 -> 4"
   ]
  },
  {
   "cell_type": "markdown",
   "metadata": {},
   "source": [
    "## Maps "
   ]
  },
  {
   "cell_type": "markdown",
   "metadata": {},
   "source": [
    " Maps group data from key to a  value, you can use the key to access the value."
   ]
  },
  {
   "cell_type": "markdown",
   "metadata": {},
   "source": [
    "We can create a range of numbers and a range of characters as follows:"
   ]
  },
  {
   "cell_type": "code",
   "execution_count": 65,
   "metadata": {},
   "outputs": [
    {
     "data": {
      "text/plain": [
       "Numbers: scala.collection.immutable.Range.Inclusive = Range 1 to 5\n",
       "res56: scala.collection.immutable.Range.Inclusive = Range 1 to 5\n"
      ]
     },
     "execution_count": 65,
     "metadata": {},
     "output_type": "execute_result"
    }
   ],
   "source": [
    "val Numbers=1 to 5\n",
    "Numbers"
   ]
  },
  {
   "cell_type": "code",
   "execution_count": 66,
   "metadata": {},
   "outputs": [
    {
     "data": {
      "text/plain": [
       "Letters: scala.collection.immutable.NumericRange.Inclusive[Char] = NumericRange a to e\n",
       "res57: scala.collection.immutable.NumericRange.Inclusive[Char] = NumericRange a to e\n"
      ]
     },
     "execution_count": 66,
     "metadata": {},
     "output_type": "execute_result"
    }
   ],
   "source": [
    "val Letters= 'a' to 'e'\n",
    "Letters"
   ]
  },
  {
   "cell_type": "markdown",
   "metadata": {},
   "source": [
    " We can use the zip function to place both \"Numbers\" and \"Letter\" into a new vector, each element of the vector contains a tuple. The tuple has one element from \"Numbers\" and one from \"Letters\"."
   ]
  },
  {
   "cell_type": "code",
   "execution_count": 67,
   "metadata": {},
   "outputs": [
    {
     "data": {
      "text/plain": [
       "LettertoNumber: scala.collection.immutable.IndexedSeq[(Char, Int)] = Vector((a,1), (b,2), (c,3), (d,4), (e,5))\n",
       "res58: scala.collection.immutable.IndexedSeq[(Char, Int)] = Vector((a,1), (b,2), (c,3), (d,4), (e,5))\n"
      ]
     },
     "execution_count": 67,
     "metadata": {},
     "output_type": "execute_result"
    }
   ],
   "source": [
    "val LettertoNumber = Letters.zip(Numbers)\n",
    " LettertoNumber"
   ]
  },
  {
   "cell_type": "markdown",
   "metadata": {},
   "source": [
    " We can use the function \"toMap\" to create a key value relation between those tuples "
   ]
  },
  {
   "cell_type": "code",
   "execution_count": 68,
   "metadata": {},
   "outputs": [
    {
     "data": {
      "text/plain": [
       "MapLettertoNumber: scala.collection.immutable.Map[Char,Int] = Map(e -> 5, a -> 1, b -> 2, c -> 3, d -> 4)\n"
      ]
     },
     "execution_count": 68,
     "metadata": {},
     "output_type": "execute_result"
    }
   ],
   "source": [
    "val MapLettertoNumber = LettertoNumber.toMap"
   ]
  },
  {
   "cell_type": "markdown",
   "metadata": {},
   "source": [
    " we can use the key to look up the value as follows:"
   ]
  },
  {
   "cell_type": "code",
   "execution_count": 69,
   "metadata": {},
   "outputs": [
    {
     "name": "stdout",
     "output_type": "stream",
     "text": [
      "(for key a,1)\n",
      "(for key b,2)\n",
      "(for key c,3)\n",
      "(for key d,4)\n",
      "(for key e,5)\n"
     ]
    }
   ],
   "source": [
    "println(\"for key a\", MapLettertoNumber('a'))\n",
    "println(\"for key b\", MapLettertoNumber('b'))\n",
    "println(\"for key c\", MapLettertoNumber('c'))\n",
    "println(\"for key d\", MapLettertoNumber('d'))\n",
    "println(\"for key e\", MapLettertoNumber('e'))"
   ]
  },
  {
   "cell_type": "markdown",
   "metadata": {},
   "source": [
    " The process is summarized in the following figure after the function zip is applied, we use the `toMap` function. We represent the value `MapLettertoNumber` as a table where the keys are represented in the first column, and the values are shown in the second column."
   ]
  },
  {
   "cell_type": "markdown",
   "metadata": {},
   "source": [
    "<img src = \"image/toMap.png\" width = 1000, align = \"center\"></a>\n",
    "\n",
    "<h1 align=center><font size = 3>illustration of deconstructing a tuple</font></h1>"
   ]
  },
  {
   "cell_type": "markdown",
   "metadata": {},
   "source": [
    " If we try to use a key that does not exist we get an exception:"
   ]
  },
  {
   "cell_type": "code",
   "execution_count": 70,
   "metadata": {},
   "outputs": [
    {
     "ename": "java.util.NoSuchElementException",
     "evalue": " key not found: z",
     "output_type": "error",
     "traceback": [
      "java.util.NoSuchElementException: key not found: z",
      "  at scala.collection.MapLike.default(MapLike.scala:236)",
      "  at scala.collection.MapLike.default$(MapLike.scala:235)",
      "  at scala.collection.AbstractMap.default(Map.scala:65)",
      "  at scala.collection.MapLike.apply(MapLike.scala:144)",
      "  at scala.collection.MapLike.apply$(MapLike.scala:143)",
      "  at scala.collection.AbstractMap.apply(Map.scala:65)",
      "  ... 37 elided",
      ""
     ]
    }
   ],
   "source": [
    "MapLettertoNumber('z')"
   ]
  },
  {
   "cell_type": "markdown",
   "metadata": {},
   "source": [
    "If your not sure if the key exists you can use the \"get\" method. It will return an `Option` of a value at the specified key. If the value is in the Map, you will get a `Some` of a value. If the value is not in the map, you will get a `None`."
   ]
  },
  {
   "cell_type": "code",
   "execution_count": 71,
   "metadata": {},
   "outputs": [
    {
     "data": {
      "text/plain": [
       "res61: Option[Int] = None\n"
      ]
     },
     "execution_count": 71,
     "metadata": {},
     "output_type": "execute_result"
    }
   ],
   "source": [
    "MapLettertoNumber.get('z')"
   ]
  },
  {
   "cell_type": "markdown",
   "metadata": {},
   "source": [
    " `getOrElse` that allows us to provide a default option, in this case the default is the key is not in the Map."
   ]
  },
  {
   "cell_type": "code",
   "execution_count": 72,
   "metadata": {},
   "outputs": [
    {
     "data": {
      "text/plain": [
       "res62: Any = not here\n"
      ]
     },
     "execution_count": 72,
     "metadata": {},
     "output_type": "execute_result"
    }
   ],
   "source": [
    "MapLettertoNumber.getOrElse('z',\"not here\" )"
   ]
  },
  {
   "cell_type": "markdown",
   "metadata": {},
   "source": [
    "If the key exists it returns the actual value"
   ]
  },
  {
   "cell_type": "code",
   "execution_count": 73,
   "metadata": {},
   "outputs": [
    {
     "data": {
      "text/plain": [
       "res63: Any = 2\n"
      ]
     },
     "execution_count": 73,
     "metadata": {},
     "output_type": "execute_result"
    }
   ],
   "source": [
    "MapLettertoNumber.getOrElse('b',\"not here\" )"
   ]
  },
  {
   "cell_type": "markdown",
   "metadata": {},
   "source": [
    "<a id=\"ref5\"></a>\n",
    "## 4.5 Higher Order Functions"
   ]
  },
  {
   "cell_type": "markdown",
   "metadata": {},
   "source": [
    "### Map"
   ]
  },
  {
   "cell_type": "markdown",
   "metadata": {},
   "source": [
    "If I have a collection of values 1 to 10 in the value \"myNums\""
   ]
  },
  {
   "cell_type": "code",
   "execution_count": 75,
   "metadata": {},
   "outputs": [
    {
     "name": "stdout",
     "output_type": "stream",
     "text": [
      "Range 1 to 10\n"
     ]
    },
    {
     "data": {
      "text/plain": [
       "myNums: scala.collection.immutable.Range.Inclusive = Range 1 to 10\n"
      ]
     },
     "execution_count": 75,
     "metadata": {},
     "output_type": "execute_result"
    }
   ],
   "source": [
    "val myNums = 1 to 10\n",
    "println(myNums)"
   ]
  },
  {
   "cell_type": "markdown",
   "metadata": {},
   "source": [
    "You can map over the collection  by adding 1 to  each value and returning the result to a new collection \"NewmyNums\". The values has a 1 added to it"
   ]
  },
  {
   "cell_type": "code",
   "execution_count": 76,
   "metadata": {},
   "outputs": [
    {
     "data": {
      "text/plain": [
       "NewmyNums: scala.collection.immutable.IndexedSeq[Int] = Vector(2, 3, 4, 5, 6, 7, 8, 9, 10, 11)\n",
       "res66: scala.collection.immutable.IndexedSeq[Int] = Vector(2, 3, 4, 5, 6, 7, 8, 9, 10, 11)\n"
      ]
     },
     "execution_count": 76,
     "metadata": {},
     "output_type": "execute_result"
    }
   ],
   "source": [
    "val NewmyNums = myNums.map(n=>n+1)\n",
    "NewmyNums"
   ]
  },
  {
   "cell_type": "markdown",
   "metadata": {},
   "source": [
    "The process is demonstrated in the following figure."
   ]
  },
  {
   "cell_type": "markdown",
   "metadata": {},
   "source": [
    "<a ><img src = \"image/map.png\" width = 1000, align = \"center\"></a>\n",
    "\n",
    "<h1 align=center><font size = 4>Example of a map in function </h1>"
   ]
  },
  {
   "cell_type": "markdown",
   "metadata": {},
   "source": [
    "<h1>  Question  4.8: </h1>\n",
    "<p> \n",
    "Use the map function to to multiply every number in the list by 2 \n",
    "</p>\n"
   ]
  },
  {
   "cell_type": "code",
   "execution_count": 77,
   "metadata": {},
   "outputs": [
    {
     "data": {
      "text/plain": [
       "SomeNumbers: List[Int] = List(1, 10, 100)\n",
       "res67: List[Int] = List(1, 10, 100)\n"
      ]
     },
     "execution_count": 77,
     "metadata": {},
     "output_type": "execute_result"
    }
   ],
   "source": [
    "val SomeNumbers=List(1,10,100)\n",
    "SomeNumbers"
   ]
  },
  {
   "cell_type": "code",
   "execution_count": 78,
   "metadata": {},
   "outputs": [
    {
     "data": {
      "text/plain": [
       "res68: List[Int] = List(2, 20, 200)\n"
      ]
     },
     "execution_count": 78,
     "metadata": {},
     "output_type": "execute_result"
    }
   ],
   "source": [
    "SomeNumbers.map(x => x * 2)"
   ]
  },
  {
   "cell_type": "markdown",
   "metadata": {},
   "source": [
    "The function \"contains\" returns \"true\" if the string contains a sub-string, consider the string \"Python\" contains \"Py\" as follows \n"
   ]
  },
  {
   "cell_type": "code",
   "execution_count": 80,
   "metadata": {},
   "outputs": [
    {
     "data": {
      "text/plain": [
       "res70: Boolean = true\n"
      ]
     },
     "execution_count": 80,
     "metadata": {},
     "output_type": "execute_result"
    }
   ],
   "source": [
    "\"Python\".contains(\"Py\")"
   ]
  },
  {
   "cell_type": "markdown",
   "metadata": {},
   "source": [
    "The function returns a `True` if the function does contain the sub-string, otherwise we get a `False`. For example :"
   ]
  },
  {
   "cell_type": "code",
   "execution_count": 79,
   "metadata": {},
   "outputs": [
    {
     "data": {
      "text/plain": [
       "res69: Boolean = false\n"
      ]
     },
     "execution_count": 79,
     "metadata": {},
     "output_type": "execute_result"
    }
   ],
   "source": [
    "\"Python\".contains(\"Sc\")"
   ]
  },
  {
   "cell_type": "markdown",
   "metadata": {},
   "source": [
    " We can apply the function to each element in the list. Consider the following list:"
   ]
  },
  {
   "cell_type": "code",
   "execution_count": 81,
   "metadata": {},
   "outputs": [
    {
     "data": {
      "text/plain": [
       "ProgrammingLanguages: List[String] = List(Scala, Python, R, SQL)\n",
       "res71: List[String] = List(Scala, Python, R, SQL)\n"
      ]
     },
     "execution_count": 81,
     "metadata": {},
     "output_type": "execute_result"
    }
   ],
   "source": [
    "val ProgrammingLanguages=List(\"Scala\",\"Python\",\"R\",\"SQL\")\n",
    "ProgrammingLanguages"
   ]
  },
  {
   "cell_type": "markdown",
   "metadata": {},
   "source": [
    "We can see if each element contains an \"S\" and return a new list that contains  a True if the corresponding element contains \"S\" or else it will return a false \n"
   ]
  },
  {
   "cell_type": "code",
   "execution_count": 82,
   "metadata": {},
   "outputs": [
    {
     "data": {
      "text/plain": [
       "res72: List[Boolean] = List(true, false, false, true)\n"
      ]
     },
     "execution_count": 82,
     "metadata": {},
     "output_type": "execute_result"
    }
   ],
   "source": [
    "ProgrammingLanguages.map(s => s.contains(\"S\"))"
   ]
  },
  {
   "cell_type": "markdown",
   "metadata": {},
   "source": [
    "### Flat Map "
   ]
  },
  {
   "cell_type": "markdown",
   "metadata": {},
   "source": [
    " The function \"flatmap\"  will apply the function and then\n",
    "flatten it down one level. In this case, we have a list of strings; each string is a sequence of characters."
   ]
  },
  {
   "cell_type": "code",
   "execution_count": 83,
   "metadata": {},
   "outputs": [
    {
     "data": {
      "text/plain": [
       "ProgrammingLanguages: List[String] = List(Scala, Python, R, SQL)\n",
       "res73: List[String] = List(Scala, Python, R, SQL)\n"
      ]
     },
     "execution_count": 83,
     "metadata": {},
     "output_type": "execute_result"
    }
   ],
   "source": [
    "val ProgrammingLanguages=List(\"Scala\",\"Python\",\"R\",\"SQL\")\n",
    "ProgrammingLanguages"
   ]
  },
  {
   "cell_type": "markdown",
   "metadata": {},
   "source": [
    "We can use the function \"map\" to  add a hash to each element in the list:"
   ]
  },
  {
   "cell_type": "code",
   "execution_count": 84,
   "metadata": {},
   "outputs": [
    {
     "data": {
      "text/plain": [
       "res74: List[String] = List(Scala#, Python#, R#, SQL#)\n"
      ]
     },
     "execution_count": 84,
     "metadata": {},
     "output_type": "execute_result"
    }
   ],
   "source": [
    "ProgrammingLanguages.map(lang=>lang+\"#\")"
   ]
  },
  {
   "cell_type": "markdown",
   "metadata": {},
   "source": [
    "If we apply a \"flatMap\", it will perform the map, but it's  going to flatten one level so the sequence of characters is now broken apart and we end up with a list of characters:\n"
   ]
  },
  {
   "cell_type": "code",
   "execution_count": 85,
   "metadata": {},
   "outputs": [
    {
     "data": {
      "text/plain": [
       "res75: List[Char] = List(S, c, a, l, a, #, P, y, t, h, o, n, #, R, #, S, Q, L, #)\n"
      ]
     },
     "execution_count": 85,
     "metadata": {},
     "output_type": "execute_result"
    }
   ],
   "source": [
    "ProgrammingLanguages.flatMap(lang=>lang+\"#\")"
   ]
  },
  {
   "cell_type": "markdown",
   "metadata": {},
   "source": [
    "Alternatively, consider this example where we use `flatMap` to flatten a list of lists."
   ]
  },
  {
   "cell_type": "code",
   "execution_count": 86,
   "metadata": {},
   "outputs": [
    {
     "data": {
      "text/plain": [
       "lst: List[Int] = List(1, 2, 3)\n",
       "res76: List[List[Int]] = List(List(1), List(2), List(3))\n"
      ]
     },
     "execution_count": 86,
     "metadata": {},
     "output_type": "execute_result"
    }
   ],
   "source": [
    "val lst = List(1,2,3)\n",
    "lst.map(i => List(i))"
   ]
  },
  {
   "cell_type": "code",
   "execution_count": 87,
   "metadata": {},
   "outputs": [
    {
     "data": {
      "text/plain": [
       "res77: List[Int] = List(1, 2, 3)\n"
      ]
     },
     "execution_count": 87,
     "metadata": {},
     "output_type": "execute_result"
    }
   ],
   "source": [
    "lst.flatMap(i => List(i))"
   ]
  },
  {
   "cell_type": "markdown",
   "metadata": {},
   "source": [
    "## Filter "
   ]
  },
  {
   "cell_type": "markdown",
   "metadata": {},
   "source": [
    "The function filter allows you to return a  subset of the values by applying a predicate function.  The predicate function returns a true or false condition if the condition is false the elements will not be returned."
   ]
  },
  {
   "cell_type": "code",
   "execution_count": 88,
   "metadata": {},
   "outputs": [
    {
     "data": {
      "text/plain": [
       "ProgrammingLanguages: List[String] = List(Scala, Python, R, SQL)\n",
       "res78: List[String] = List(Scala, Python, R, SQL)\n"
      ]
     },
     "execution_count": 88,
     "metadata": {},
     "output_type": "execute_result"
    }
   ],
   "source": [
    "val ProgrammingLanguages = List(\"Scala\",\"Python\",\"R\",\"SQL\")\n",
    "ProgrammingLanguages"
   ]
  },
  {
   "cell_type": "markdown",
   "metadata": {},
   "source": [
    "We apply the predicate function \"contains\" with an argument of \"S\". If a string in the list does not contain an \"S\" it will be filtered out. The result is the new list only contains the string \"Scala\"  and  \"SQL\"."
   ]
  },
  {
   "cell_type": "code",
   "execution_count": 89,
   "metadata": {},
   "outputs": [
    {
     "data": {
      "text/plain": [
       "ProgrammingLanguagesWithS: List[String] = List(Scala, SQL)\n",
       "res79: List[String] = List(Scala, SQL)\n"
      ]
     },
     "execution_count": 89,
     "metadata": {},
     "output_type": "execute_result"
    }
   ],
   "source": [
    "val ProgrammingLanguagesWithS = ProgrammingLanguages.filter(s => s.contains(\"S\"))\n",
    "ProgrammingLanguagesWithS"
   ]
  },
  {
   "cell_type": "markdown",
   "metadata": {},
   "source": [
    "<h1>  Question  4.10: </h1>\n",
    "<p> \n",
    "Use the filter function to filter out any string in the list \"List(\"AB\",\"BC\",\"BC\",\"DB\")\" with the letter \"A\" </b>\n",
    "</p>\n"
   ]
  },
  {
   "cell_type": "code",
   "execution_count": 91,
   "metadata": {},
   "outputs": [
    {
     "data": {
      "text/plain": [
       "res81: List[String] = List(AB, BC, BC, DB)\n"
      ]
     },
     "execution_count": 91,
     "metadata": {},
     "output_type": "execute_result"
    }
   ],
   "source": [
    "List(\"AB\",\"BC\",\"BC\",\"DB\").filter(s => s.contains(\"B\"))"
   ]
  },
  {
   "cell_type": "markdown",
   "metadata": {},
   "source": [
    "<a id=\"xx\"></a>\n",
    "\n",
    "## Foreach "
   ]
  },
  {
   "cell_type": "markdown",
   "metadata": {},
   "source": [
    "Higher-order functions result in a new collection being created for the transformation that was performed; we do not want to do this in every case. We have another higher order function called \"for each\" which allows us to apply the function. The advantage is that this function does not return a list of values."
   ]
  },
  {
   "cell_type": "markdown",
   "metadata": {},
   "source": [
    "Let's say we use \"map\" to apply the \"println\" function:\n"
   ]
  },
  {
   "cell_type": "code",
   "execution_count": 92,
   "metadata": {},
   "outputs": [
    {
     "name": "stdout",
     "output_type": "stream",
     "text": [
      "Scala\n",
      "Python\n",
      "R\n",
      "SQL\n"
     ]
    },
    {
     "data": {
      "text/plain": [
       "res82: List[Unit] = List((), (), (), ())\n"
      ]
     },
     "execution_count": 92,
     "metadata": {},
     "output_type": "execute_result"
    }
   ],
   "source": [
    "ProgrammingLanguages.map(println)"
   ]
  },
  {
   "cell_type": "markdown",
   "metadata": {},
   "source": [
    " The function prints each element in the list, but it returns a new list \"List((), (), (), ())\" this is a waste of memory. We can use the function \"foreach\" instead. "
   ]
  },
  {
   "cell_type": "code",
   "execution_count": 93,
   "metadata": {},
   "outputs": [
    {
     "name": "stdout",
     "output_type": "stream",
     "text": [
      "Scala\n",
      "Python\n",
      "R\n",
      "SQL\n"
     ]
    }
   ],
   "source": [
    "ProgrammingLanguages.foreach(println)"
   ]
  },
  {
   "cell_type": "markdown",
   "metadata": {},
   "source": [
    "As you can see using \"foreach\" does not return a  new list."
   ]
  },
  {
   "cell_type": "markdown",
   "metadata": {},
   "source": [
    "<a id=\"xx\"></a>\n",
    "\n",
    "\n",
    "## Forall"
   ]
  },
  {
   "cell_type": "markdown",
   "metadata": {},
   "source": [
    "A similar named higher-order function is \"forall\". In this case, we're going to look at the values inside of our container and see if any meat that condition by using a predicate function "
   ]
  },
  {
   "cell_type": "markdown",
   "metadata": {},
   "source": [
    " Consider the following list, each string in the list contains an \"A\" :"
   ]
  },
  {
   "cell_type": "code",
   "execution_count": 94,
   "metadata": {},
   "outputs": [
    {
     "data": {
      "text/plain": [
       "ABC: List[String] = List(A, AB, ABC)\n"
      ]
     },
     "execution_count": 94,
     "metadata": {},
     "output_type": "execute_result"
    }
   ],
   "source": [
    "val ABC=List(\"A\",\"AB\",\"ABC\")"
   ]
  },
  {
   "cell_type": "markdown",
   "metadata": {},
   "source": [
    " If we apply the function \"contains(\"A\")\" using the  \"forall\" we get a True  as each element contains a \"A\"  "
   ]
  },
  {
   "cell_type": "code",
   "execution_count": 95,
   "metadata": {},
   "outputs": [
    {
     "data": {
      "text/plain": [
       "res84: Boolean = true\n"
      ]
     },
     "execution_count": 95,
     "metadata": {},
     "output_type": "execute_result"
    }
   ],
   "source": [
    "ABC.forall(s => s.contains(\"A\"))"
   ]
  },
  {
   "cell_type": "markdown",
   "metadata": {},
   "source": [
    "If we apply the function \"contains(\"B\")\" using the \"forall\" we get a False as  only 2 of the three elments contain a \"B\""
   ]
  },
  {
   "cell_type": "code",
   "execution_count": 96,
   "metadata": {},
   "outputs": [
    {
     "data": {
      "text/plain": [
       "res85: Boolean = false\n"
      ]
     },
     "execution_count": 96,
     "metadata": {},
     "output_type": "execute_result"
    }
   ],
   "source": [
    "ABC.forall(s => s.contains(\"B\"))"
   ]
  },
  {
   "cell_type": "markdown",
   "metadata": {},
   "source": [
    "## Reduce"
   ]
  },
  {
   "cell_type": "markdown",
   "metadata": {},
   "source": [
    " Another well-known higher-order function in the functional programming world is reduced.  This is a powerful concept we see used in the Map Reduce world for transforming data,let's say we would like to perform a summation on a the myNums of values from one to five."
   ]
  },
  {
   "cell_type": "code",
   "execution_count": 65,
   "metadata": {},
   "outputs": [
    {
     "data": {
      "text/plain": [
       "myNums = Range(1, 2, 3, 4, 5)\n"
      ]
     },
     "metadata": {},
     "output_type": "display_data"
    },
    {
     "data": {
      "text/plain": [
       "Range(1, 2, 3, 4, 5)"
      ]
     },
     "execution_count": 65,
     "metadata": {},
     "output_type": "execute_result"
    }
   ],
   "source": [
    "val myNums= 1 to 5\n",
    "myNums"
   ]
  },
  {
   "cell_type": "markdown",
   "metadata": {},
   "source": [
    "The process works by adding the current element \"cur\" to an accumulator \"acc\"."
   ]
  },
  {
   "cell_type": "code",
   "execution_count": 97,
   "metadata": {},
   "outputs": [
    {
     "data": {
      "text/plain": [
       "res86: Int = 55\n"
      ]
     },
     "execution_count": 97,
     "metadata": {},
     "output_type": "execute_result"
    }
   ],
   "source": [
    "myNums.reduce((a,b) => a+b)"
   ]
  },
  {
   "cell_type": "markdown",
   "metadata": {},
   "source": [
    " we can square the value before we add it."
   ]
  },
  {
   "cell_type": "markdown",
   "metadata": {},
   "source": [
    " <a ><img src = \"image/reduce.png\" width = 1000, align = \"center\"></a>\n",
    "\n",
    "<h1 align=center><font size = 4>Example of the reduce in function </h1>"
   ]
  },
  {
   "cell_type": "code",
   "execution_count": 98,
   "metadata": {},
   "outputs": [
    {
     "data": {
      "text/plain": [
       "res87: Int = 385\n"
      ]
     },
     "execution_count": 98,
     "metadata": {},
     "output_type": "execute_result"
    }
   ],
   "source": [
    "myNums.reduce((a,b) => a+b*b)"
   ]
  },
  {
   "cell_type": "markdown",
   "metadata": {},
   "source": [
    " we can also square the accumulator value for each value "
   ]
  },
  {
   "cell_type": "code",
   "execution_count": 99,
   "metadata": {},
   "outputs": [
    {
     "data": {
      "text/plain": [
       "res88: Int = 791706843\n"
      ]
     },
     "execution_count": 99,
     "metadata": {},
     "output_type": "execute_result"
    }
   ],
   "source": [
    "myNums.reduce((a,b) => a*a+b)"
   ]
  },
  {
   "cell_type": "markdown",
   "metadata": {},
   "source": [
    "<h1>  Question  4.11: </h1>\n",
    "<p> \n",
    "Use the reduce function to implement the following function on the value \"myNums\" </b>\n",
    "</p>\n",
    "</div>"
   ]
  },
  {
   "cell_type": "markdown",
   "metadata": {},
   "source": [
    " $$\\sum_{n=1}^{5} 2n$$"
   ]
  },
  {
   "cell_type": "code",
   "execution_count": 108,
   "metadata": {},
   "outputs": [
    {
     "data": {
      "text/plain": [
       "res96: Int = 109\n"
      ]
     },
     "execution_count": 108,
     "metadata": {},
     "output_type": "execute_result"
    }
   ],
   "source": [
    "myNums.reduce((a,b) => a + 2*b) "
   ]
  },
  {
   "cell_type": "code",
   "execution_count": 107,
   "metadata": {},
   "outputs": [
    {
     "data": {
      "text/plain": [
       "res95: Int = 110\n"
      ]
     },
     "execution_count": 107,
     "metadata": {},
     "output_type": "execute_result"
    }
   ],
   "source": [
    "myNums.foldLeft(0){case (a, b) => a + 2*b}"
   ]
  },
  {
   "cell_type": "markdown",
   "metadata": {},
   "source": [
    "<pre>\n",
    "myNums.reduce((acc,cur) => acc+2*cur)\n",
    "</pre>\n",
    "</div>\n",
    "\n",
    "\n"
   ]
  },
  {
   "cell_type": "markdown",
   "metadata": {},
   "source": [
    "If you have an empty list and try to perform the same reduction, we get an unsupported operation exception because we have an empty list and we're trying to reduce it. "
   ]
  },
  {
   "cell_type": "markdown",
   "metadata": {},
   "source": [
    "### Try running this command : List\\[Int\\]().reduce((acc,cur) => acc+cur)"
   ]
  },
  {
   "cell_type": "markdown",
   "metadata": {},
   "source": [
    "To get around this we use the more general fold functions again we create the values 1 to 5.  We will use the function  \"foldLeft()\".  We are  going to give an initial value 0 i.e foldLeft(0). "
   ]
  },
  {
   "cell_type": "code",
   "execution_count": 109,
   "metadata": {},
   "outputs": [
    {
     "data": {
      "text/plain": [
       "myNums: scala.collection.immutable.Range.Inclusive = Range 1 to 5\n",
       "res97: Int = 15\n"
      ]
     },
     "execution_count": 109,
     "metadata": {},
     "output_type": "execute_result"
    }
   ],
   "source": [
    "val myNums= 1 to 5\n",
    "myNums.foldLeft(0){case (acc,cur) => acc+cur}"
   ]
  },
  {
   "cell_type": "markdown",
   "metadata": {},
   "source": [
    "If we apply the operation to an empty List  we get a zero."
   ]
  },
  {
   "cell_type": "code",
   "execution_count": 110,
   "metadata": {},
   "outputs": [
    {
     "data": {
      "text/plain": [
       "res98: Int = 0\n"
      ]
     },
     "execution_count": 110,
     "metadata": {},
     "output_type": "execute_result"
    }
   ],
   "source": [
    "List[Int]().foldLeft(0){case (acc,cur) => acc+cur}"
   ]
  },
  {
   "cell_type": "markdown",
   "metadata": {},
   "source": [
    "### Product"
   ]
  },
  {
   "cell_type": "markdown",
   "metadata": {},
   "source": [
    " The product function  provides the product of a sequence of numbers, for example, we can calculate the product of all the integers from 1 to 5."
   ]
  },
  {
   "cell_type": "code",
   "execution_count": 111,
   "metadata": {},
   "outputs": [
    {
     "data": {
      "text/plain": [
       "res99: Int = 120\n"
      ]
     },
     "execution_count": 111,
     "metadata": {},
     "output_type": "execute_result"
    }
   ],
   "source": [
    "myNums.product"
   ]
  },
  {
   "cell_type": "markdown",
   "metadata": {},
   "source": [
    "### Exists "
   ]
  },
  {
   "cell_type": "markdown",
   "metadata": {},
   "source": [
    " There's also the `exists` higher-order function. We can pass in a predicate. If the condition is met it will return a `true`. In the next cell, we use an anonymous function `num => num == 3` in combination with `exists` to check if any of the elements in `myNums` are equal to `3`."
   ]
  },
  {
   "cell_type": "code",
   "execution_count": 112,
   "metadata": {},
   "outputs": [
    {
     "data": {
      "text/plain": [
       "res100: Boolean = true\n"
      ]
     },
     "execution_count": 112,
     "metadata": {},
     "output_type": "execute_result"
    }
   ],
   "source": [
    "myNums.exists(num => num==3)"
   ]
  },
  {
   "cell_type": "markdown",
   "metadata": {},
   "source": [
    "If we would like to see if any of the numbers in the sequence is equal to 1000 we can apply the following:"
   ]
  },
  {
   "cell_type": "code",
   "execution_count": 113,
   "metadata": {},
   "outputs": [
    {
     "data": {
      "text/plain": [
       "res101: Boolean = false\n"
      ]
     },
     "execution_count": 113,
     "metadata": {},
     "output_type": "execute_result"
    }
   ],
   "source": [
    "myNums.exists(num => num == 1000)"
   ]
  },
  {
   "cell_type": "markdown",
   "metadata": {},
   "source": [
    " A similar higher-order function is called find if we had the values from 1 to 5 and applied the function  its going to return the option of a value of the option,in this case 3\n"
   ]
  },
  {
   "cell_type": "code",
   "execution_count": 114,
   "metadata": {},
   "outputs": [
    {
     "data": {
      "text/plain": [
       "res102: Option[Int] = Some(3)\n"
      ]
     },
     "execution_count": 114,
     "metadata": {},
     "output_type": "execute_result"
    }
   ],
   "source": [
    "myNums.find(x => x == 3)"
   ]
  },
  {
   "cell_type": "markdown",
   "metadata": {},
   "source": [
    "if the value is not found it returns none"
   ]
  },
  {
   "cell_type": "code",
   "execution_count": 115,
   "metadata": {},
   "outputs": [
    {
     "data": {
      "text/plain": [
       "res103: Option[Int] = None\n"
      ]
     },
     "execution_count": 115,
     "metadata": {},
     "output_type": "execute_result"
    }
   ],
   "source": [
    "myNums.find(x=>x==100)"
   ]
  },
  {
   "cell_type": "markdown",
   "metadata": {},
   "source": [
    "## group By"
   ]
  },
  {
   "cell_type": "markdown",
   "metadata": {},
   "source": [
    " Another higher-order function is group by. We can have values from 1 to 5 ; we can group them into odd and evens. We simply apply the modules function and placed into a map,  where the key is the remainder, and the value is the number."
   ]
  },
  {
   "cell_type": "code",
   "execution_count": 116,
   "metadata": {},
   "outputs": [
    {
     "data": {
      "text/plain": [
       "NewMap: scala.collection.immutable.Map[Int,scala.collection.immutable.IndexedSeq[Int]] = Map(1 -> Vector(1, 3, 5), 0 -> Vector(2, 4))\n",
       "res104: scala.collection.immutable.Map[Int,scala.collection.immutable.IndexedSeq[Int]] = Map(1 -> Vector(1, 3, 5), 0 -> Vector(2, 4))\n"
      ]
     },
     "execution_count": 116,
     "metadata": {},
     "output_type": "execute_result"
    }
   ],
   "source": [
    "val NewMap=myNums.groupBy(num=>num%2)\n",
    "NewMap"
   ]
  },
  {
   "cell_type": "code",
   "execution_count": 117,
   "metadata": {},
   "outputs": [
    {
     "data": {
      "text/plain": [
       "res105: scala.collection.immutable.IndexedSeq[Int] = Vector(2, 4)\n"
      ]
     },
     "execution_count": 117,
     "metadata": {},
     "output_type": "execute_result"
    }
   ],
   "source": [
    "NewMap(0)"
   ]
  },
  {
   "cell_type": "code",
   "execution_count": 118,
   "metadata": {},
   "outputs": [
    {
     "data": {
      "text/plain": [
       "res106: scala.collection.immutable.IndexedSeq[Int] = Vector(1, 3, 5)\n"
      ]
     },
     "execution_count": 118,
     "metadata": {},
     "output_type": "execute_result"
    }
   ],
   "source": [
    "NewMap(1)"
   ]
  },
  {
   "cell_type": "markdown",
   "metadata": {},
   "source": [
    "### takeWhile and dropWhile"
   ]
  },
  {
   "cell_type": "markdown",
   "metadata": {},
   "source": [
    " Finally, we have the **takeWhile** and **dropWhile** higher order functions.  For example we have the values from 1 to 5  we can  return a\n",
    "collection that only represents the values  that meet a condition using the **takeWhile** function, in this case, the numbers less than three "
   ]
  },
  {
   "cell_type": "code",
   "execution_count": 119,
   "metadata": {},
   "outputs": [
    {
     "data": {
      "text/plain": [
       "res107: scala.collection.immutable.Range = Range 1 to 2\n"
      ]
     },
     "execution_count": 119,
     "metadata": {},
     "output_type": "execute_result"
    }
   ],
   "source": [
    "myNums.takeWhile(num=>num<3)"
   ]
  },
  {
   "cell_type": "markdown",
   "metadata": {},
   "source": [
    " We can drop the values the meet the condition  that meet a predicate using the **dropWhile**  \n"
   ]
  },
  {
   "cell_type": "code",
   "execution_count": 120,
   "metadata": {},
   "outputs": [
    {
     "data": {
      "text/plain": [
       "res108: scala.collection.immutable.Range = Range 3 to 5\n"
      ]
     },
     "execution_count": 120,
     "metadata": {},
     "output_type": "execute_result"
    }
   ],
   "source": [
    "myNums.dropWhile(num=>num<3)"
   ]
  },
  {
   "cell_type": "markdown",
   "metadata": {},
   "source": [
    "***\n",
    "### part of Scala 101: cognitiveclass.ai lab"
   ]
  }
 ],
 "metadata": {
  "kernelspec": {
   "display_name": "spylon-kernel",
   "language": "scala",
   "name": "spylon-kernel"
  },
  "language_info": {
   "codemirror_mode": "text/x-scala",
   "file_extension": ".scala",
   "help_links": [
    {
     "text": "MetaKernel Magics",
     "url": "https://metakernel.readthedocs.io/en/latest/source/README.html"
    }
   ],
   "mimetype": "text/x-scala",
   "name": "scala",
   "pygments_lexer": "scala",
   "version": "0.4.1"
  }
 },
 "nbformat": 4,
 "nbformat_minor": 4
}
