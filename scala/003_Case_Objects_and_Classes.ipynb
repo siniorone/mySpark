{
 "cells": [
  {
   "cell_type": "markdown",
   "metadata": {},
   "source": [
    "# Module 3 Case Objects and Classes"
   ]
  },
  {
   "cell_type": "markdown",
   "metadata": {},
   "source": [
    "<a id=\"#ref1\"></a>\n",
    "\n",
    "## 3.1 Companion Objects"
   ]
  },
  {
   "cell_type": "markdown",
   "metadata": {
    "tags": []
   },
   "source": [
    "### By the end of this section you should be able to:\n",
    "\n",
    "<ul>\n",
    "  <li>  leverage accessibility keywords </li>\n",
    "  <li>describe the role companion objects play in, Scala   </li>\n",
    "  <li>outline how to use companion objects </li>\n",
    "</ul>  \n"
   ]
  },
  {
   "cell_type": "markdown",
   "metadata": {},
   "source": [
    "### Public and Private fields "
   ]
  },
  {
   "cell_type": "markdown",
   "metadata": {},
   "source": [
    "We can use keywords to limit the visibility of class fields. Consider the class `Hello` and the class `Welcome`. The classes are identical, but the field `message` in the class `Hello`is set to private:  "
   ]
  },
  {
   "cell_type": "code",
   "execution_count": 1,
   "metadata": {},
   "outputs": [
    {
     "data": {
      "text/plain": [
       "Intitializing Scala interpreter ..."
      ]
     },
     "metadata": {},
     "output_type": "display_data"
    },
    {
     "data": {
      "text/plain": [
       "Spark Web UI available at http://172.23.139.18:4041\n",
       "SparkContext available as 'sc' (version = 3.2.0, master = local[*], app id = local-1641152798781)\n",
       "SparkSession available as 'spark'\n"
      ]
     },
     "metadata": {},
     "output_type": "display_data"
    },
    {
     "data": {
      "text/plain": [
       "defined class Hello\n"
      ]
     },
     "execution_count": 1,
     "metadata": {},
     "output_type": "execute_result"
    }
   ],
   "source": [
    "class  Hello {\n",
    "    private val message: String = \"Hello!\"\n",
    "}"
   ]
  },
  {
   "cell_type": "code",
   "execution_count": 2,
   "metadata": {},
   "outputs": [
    {
     "ename": "<console>",
     "evalue": "26: error: value message in class Hello cannot be accessed in Hello",
     "output_type": "error",
     "traceback": [
      "<console>:26: error: value message in class Hello cannot be accessed in Hello",
      "       (new Hello).message",
      "                   ^",
      ""
     ]
    }
   ],
   "source": [
    "(new Hello).message"
   ]
  },
  {
   "cell_type": "code",
   "execution_count": null,
   "metadata": {},
   "outputs": [],
   "source": [
    "class Welcome{\n",
    "    val message: String = \"Hello!\" \n",
    "}\n",
    "(new Welcome).message"
   ]
  },
  {
   "cell_type": "markdown",
   "metadata": {},
   "source": [
    "If you construct an instance of the the class `Hello`:"
   ]
  },
  {
   "cell_type": "code",
   "execution_count": null,
   "metadata": {},
   "outputs": [],
   "source": [
    "val hello = new Hello"
   ]
  },
  {
   "cell_type": "markdown",
   "metadata": {},
   "source": [
    "The field `message` is private. It is not possible to access it from the outside of class."
   ]
  },
  {
   "cell_type": "code",
   "execution_count": null,
   "metadata": {},
   "outputs": [],
   "source": [
    "hello.message"
   ]
  },
  {
   "cell_type": "markdown",
   "metadata": {},
   "source": [
    " When we create a new instance of class `Welcome`, we have access to the field "
   ]
  },
  {
   "cell_type": "code",
   "execution_count": null,
   "metadata": {},
   "outputs": [],
   "source": [
    "val welcome = new Welcome()\n",
    "welcome.message"
   ]
  },
  {
   "cell_type": "markdown",
   "metadata": {},
   "source": [
    "<p> \n",
    "    Create a class <code>BankAccount</code>. The constuctor parameters should be: <code>name</code>, <code>balance</code> and  <code>pinNumber</code>.  They should be set as unmutable fields in the class constructor. For numerical values the default values should be zero and the pin number should be private.</b>\n",
    "</p>\n",
    "<p>\n",
    "    Note: in general, using default numerical types such as <code>Int</code>, <code>Double</code> or <code>Float</code> is not a good practice. Use the <code>BigDecimal</code> included in Java8 or <a href=\"http://javamoney.github.io\">JavaMoney</a>"
   ]
  },
  {
   "cell_type": "code",
   "execution_count": null,
   "metadata": {},
   "outputs": [],
   "source": [
    "class BankAccount(val name: String, val balance: Int = 0, private val pinNumber: Int = 0)"
   ]
  },
  {
   "cell_type": "markdown",
   "metadata": {},
   "source": [
    "<pre>\n",
    "class BankAccount(val name: String, val balance: Float = 0, private val pinNumber:Int = 0)\n",
    "</pre>"
   ]
  },
  {
   "cell_type": "markdown",
   "metadata": {},
   "source": [
    "\n",
    "<h1> Question  3.2: </h1>\n",
    "<p> \n",
    "Create two objects John and Sara of class \"BankAccount\"  the fields should be set as follows:\n",
    "<p>  \n",
    "<p> \n",
    "    <code>name</code>: John Smith\n",
    "</p> \n",
    "\n",
    "<p> \n",
    "    <code>balance</code>: 12500\n",
    "</p> \n",
    "<p> \n",
    "    <code>pinNumber</code>:1224 \n",
    "</p>\n",
    "<p> </p>\n",
    " \n",
    "<p> \n",
    "<code>name</code>: Sara Ski\n",
    "</p> \n",
    "<p> \n",
    "<code>balance</code>: 0\n",
    "</p> \n",
    "<p> \n",
    "    <code>pinNumber</code>: 2222\n",
    "</p> \n",
    "</p>\n"
   ]
  },
  {
   "cell_type": "code",
   "execution_count": null,
   "metadata": {},
   "outputs": [],
   "source": [
    "val sara: BankAccount = new BankAccount(name=\"Sara Ski\", balance=0, pinNumber=2222)\n",
    "val john: BankAccount = new BankAccount(name=\"John Smith\", balance=12500, pinNumber=1224)"
   ]
  },
  {
   "cell_type": "markdown",
   "metadata": {},
   "source": [
    "<p>\n",
    "<pre>\n",
    "val john: BankAccount = new BankAccount(name = \"John Smith\", balance = 12500, pinNumber = 1224)\n",
    "</pre>\n",
    "</p>\n",
    "<p>\n",
    "<pre>val sara: BankAccount = new BankAccount(name=\"Sara Ski\", pinNumber=2222)</pre>\n",
    "</p>"
   ]
  },
  {
   "cell_type": "markdown",
   "metadata": {},
   "source": [
    "Acess the fields for the object John, what happens when you access the field \"PinNumber\"."
   ]
  },
  {
   "cell_type": "code",
   "execution_count": null,
   "metadata": {},
   "outputs": [],
   "source": [
    "john.name"
   ]
  },
  {
   "cell_type": "code",
   "execution_count": null,
   "metadata": {},
   "outputs": [],
   "source": [
    "john.balance"
   ]
  },
  {
   "cell_type": "code",
   "execution_count": null,
   "metadata": {},
   "outputs": [],
   "source": [
    "john.pinNumber"
   ]
  },
  {
   "cell_type": "markdown",
   "metadata": {},
   "source": [
    "<pre>\n",
    "john.Name\n",
    "john.balance\n",
    "</pre>\n",
    "you get an error when you access the field <code>pinNumber</code>\n",
    "<pre>\n",
    "john.pinNumber\n",
    "</pre>"
   ]
  },
  {
   "cell_type": "markdown",
   "metadata": {},
   "source": [
    "## Companion Objects"
   ]
  },
  {
   "cell_type": "markdown",
   "metadata": {},
   "source": [
    "If a singleton object and a class share the same name and are located in the same source file, they are called companions. A companion can access both private and public fields and methods inside of its companion."
   ]
  },
  {
   "cell_type": "code",
   "execution_count": null,
   "metadata": {},
   "outputs": [],
   "source": [
    "object Hello {\n",
    "    private val defaultMessage: String = \"Hi\"\n",
    "}\n",
    "\n",
    "class Hello(val message: String = Hello.defaultMessage) {\n",
    "    import Hello._ // import all fields and methods from the companion class into here\n",
    "    \n",
    "    println(defaultMessage + \"!\") // since everything was imported above, we can refer to `defaultMessage` directly\n",
    "    println(message)\n",
    "}"
   ]
  },
  {
   "cell_type": "code",
   "execution_count": null,
   "metadata": {},
   "outputs": [],
   "source": [
    "new Hello"
   ]
  },
  {
   "cell_type": "markdown",
   "metadata": {},
   "source": [
    "<a id=\"ref2\"></a>\n",
    "## 3.2 Case Classes and Case Objects"
   ]
  },
  {
   "cell_type": "markdown",
   "metadata": {},
   "source": [
    "### By the end of this section you should be able:\n",
    "\n",
    "<ul>\n",
    "    <li>describe when to use case classes   </li>\n",
    "  <li> be able to describe when to you use case classes and cases objects instead of regular classes </li>\n",
    "\n",
    "\n",
    "</ul>  "
   ]
  },
  {
   "cell_type": "markdown",
   "metadata": {},
   "source": [
    " Case classes are a particular class that can be used to represent data. It is simpler to create a case class than a regular class.  In a case class,  the parameters are immutable fields by default. Furthermore, case classes have a number of other features that make them very useful in reprsenting data.\n"
   ]
  },
  {
   "cell_type": "markdown",
   "metadata": {},
   "source": [
    "We can create the case class time with the parameters `hours` and `minutes`. We are assingning default values to the arguments here, but we dont have to. "
   ]
  },
  {
   "cell_type": "code",
   "execution_count": null,
   "metadata": {},
   "outputs": [],
   "source": [
    "case class Time(hours: Int = 0, minutes: Int = 0)"
   ]
  },
  {
   "cell_type": "markdown",
   "metadata": {},
   "source": [
    "We can create a new instance of that class and assign it to a value:"
   ]
  },
  {
   "cell_type": "code",
   "execution_count": null,
   "metadata": {},
   "outputs": [],
   "source": [
    "val time1 = Time(9, 10)"
   ]
  },
  {
   "cell_type": "markdown",
   "metadata": {},
   "source": [
    "We can represent the instance or object \"time1\"  with a table,  the field names are in the right column, and the field values are located in the left column."
   ]
  },
  {
   "cell_type": "markdown",
   "metadata": {},
   "source": [
    " <img src= \"image/time1.png\" width = 400></a>"
   ]
  },
  {
   "cell_type": "markdown",
   "metadata": {},
   "source": [
    "We can view the actual fields "
   ]
  },
  {
   "cell_type": "code",
   "execution_count": null,
   "metadata": {},
   "outputs": [],
   "source": [
    "time1.hours"
   ]
  },
  {
   "cell_type": "code",
   "execution_count": null,
   "metadata": {},
   "outputs": [],
   "source": [
    " time1.minutes"
   ]
  },
  {
   "cell_type": "markdown",
   "metadata": {},
   "source": [
    "One nice features of case classes is that how they are displayed when we print them. The **string representation of a case class contains the name of the class and the values of the fields.**"
   ]
  },
  {
   "cell_type": "code",
   "execution_count": null,
   "metadata": {},
   "outputs": [],
   "source": [
    "time1"
   ]
  },
  {
   "cell_type": "markdown",
   "metadata": {},
   "source": [
    "We can create a second instance of `Time` called `time2`. We set the field values to be the same."
   ]
  },
  {
   "cell_type": "code",
   "execution_count": null,
   "metadata": {},
   "outputs": [],
   "source": [
    "val time2 = Time(9, 10)"
   ]
  },
  {
   "cell_type": "markdown",
   "metadata": {},
   "source": [
    "Similarly, we can visualize the object using a table "
   ]
  },
  {
   "cell_type": "markdown",
   "metadata": {},
   "source": [
    "<img src = \"image/time2.png\" width = 400>"
   ]
  },
  {
   "cell_type": "markdown",
   "metadata": {},
   "source": [
    " We can view the actual fields"
   ]
  },
  {
   "cell_type": "code",
   "execution_count": null,
   "metadata": {},
   "outputs": [],
   "source": [
    "time2.hours"
   ]
  },
  {
   "cell_type": "code",
   "execution_count": null,
   "metadata": {},
   "outputs": [],
   "source": [
    "time2.minutes"
   ]
  },
  {
   "cell_type": "markdown",
   "metadata": {},
   "source": [
    " <a id=\"ex1\"></a>We can also do equality checks to verify if two instances of the same class are the equal. When the fields have the same values, the result of the check is `true`."
   ]
  },
  {
   "cell_type": "code",
   "execution_count": null,
   "metadata": {},
   "outputs": [],
   "source": [
    "time1 == time2\n",
    "class Person(name: String)\n",
    "case class Record(person: Person)\n",
    "val recordComp = Record(new Person(\"petro\")) == Record(new Person(\"petro\"))\n",
    "\n",
    "case class Records(records: Vector[Person])\n",
    "val recordsComp = Records(Vector(new Person(\"petro\"))) == Records(Vector(new Person(\"petro\")))"
   ]
  },
  {
   "cell_type": "markdown",
   "metadata": {},
   "source": [
    " The procedure is summarized in the figure below, where each table is compared.  As both fields are  the same we get true :"
   ]
  },
  {
   "cell_type": "markdown",
   "metadata": {},
   "source": [
    "<img src = \"image/time1time2.png\" width = 1000>"
   ]
  },
  {
   "cell_type": "markdown",
   "metadata": {},
   "source": [
    "we can create a new instance **without** using the `new` keyword:"
   ]
  },
  {
   "cell_type": "code",
   "execution_count": null,
   "metadata": {},
   "outputs": [],
   "source": [
    "val time3 = Time(9, 20)"
   ]
  },
  {
   "cell_type": "markdown",
   "metadata": {},
   "source": [
    "If we perform an equivalence check we get a false as the fields are different "
   ]
  },
  {
   "cell_type": "code",
   "execution_count": null,
   "metadata": {},
   "outputs": [],
   "source": [
    "time2 == time3"
   ]
  },
  {
   "cell_type": "markdown",
   "metadata": {},
   "source": [
    "We can see that the field minutes in `time3` is set to `20`, hence the equivalence operation produces a `false`, as shown in the following figure: "
   ]
  },
  {
   "cell_type": "markdown",
   "metadata": {},
   "source": [
    "<img src = \"image/time1time3.png\" width = 1000>"
   ]
  },
  {
   "cell_type": "markdown",
   "metadata": {},
   "source": [
    "You cannot  create a case class without parameters "
   ]
  },
  {
   "cell_type": "code",
   "execution_count": null,
   "metadata": {},
   "outputs": [],
   "source": [
    "case class Data"
   ]
  },
  {
   "cell_type": "markdown",
   "metadata": {},
   "source": [
    " but you can create a case object "
   ]
  },
  {
   "cell_type": "code",
   "execution_count": null,
   "metadata": {},
   "outputs": [],
   "source": [
    "case object Data"
   ]
  },
  {
   "cell_type": "markdown",
   "metadata": {},
   "source": [
    "There is no need to instantiate it. A single instance of the object will be created at run-time."
   ]
  },
  {
   "cell_type": "code",
   "execution_count": null,
   "metadata": {},
   "outputs": [],
   "source": [
    "Data"
   ]
  },
  {
   "cell_type": "markdown",
   "metadata": {},
   "source": [
    "<h1> Question  3.4: </h1>\n",
    "<p> \n",
    "    Create a case class object <code>Birthday</code> that represents the birthdate of a person. With the integer fields in the following order: <code>day</code>, <code>month</code> (from 1 to 12) and <code>year</code>.</b>\n",
    "</p>"
   ]
  },
  {
   "cell_type": "code",
   "execution_count": null,
   "metadata": {},
   "outputs": [],
   "source": [
    "case class Birthday(day: Int, month: Int, year:Int)"
   ]
  },
  {
   "cell_type": "markdown",
   "metadata": {},
   "source": [
    "<pre>\n",
    "case class Birthday(day:Int,month:Int, year:Int ) \n",
    "</pre>\n"
   ]
  },
  {
   "cell_type": "markdown",
   "metadata": {},
   "source": [
    "<h1> Question  3.5: </h1>\n",
    "<p> \n",
    "    Create an instance of the case class <code>Birthday</code> called <code>pat</code>, born on 11th of October (11 month) in <code>1991</code>.</b>\n",
    "</p>"
   ]
  },
  {
   "cell_type": "code",
   "execution_count": null,
   "metadata": {},
   "outputs": [],
   "source": [
    "val pat = Birthday(11, 11, 1991)"
   ]
  },
  {
   "cell_type": "markdown",
   "metadata": {},
   "source": [
    "<pre>\n",
    "val pat = Birthday(11, 10, 1991)\n",
    "</pre>"
   ]
  },
  {
   "cell_type": "markdown",
   "metadata": {},
   "source": [
    "<h1> Question  3.6: </h1>\n",
    "\n",
    "Print out all the fields of the instance \"pat\" along with the instance itself."
   ]
  },
  {
   "cell_type": "code",
   "execution_count": null,
   "metadata": {},
   "outputs": [],
   "source": [
    "println(\"day\", pat.day)\n",
    "println(\"mounth\", pat.month)\n",
    "println(\"year\", pat.year)\n",
    "println(\"instance of object:\", pat)"
   ]
  },
  {
   "cell_type": "markdown",
   "metadata": {},
   "source": [
    "<pre>\n",
    "println(\"day\", pat.day)\n",
    "println(\"mounth\", pat.month)\n",
    "println(\"year\", pat.year)\n",
    "println(\"instance of object:\", pat)\n",
    "</pre>"
   ]
  },
  {
   "cell_type": "markdown",
   "metadata": {},
   "source": [
    "<h1> Question  3.7: </h1>\n",
    "<p> \n",
    "    Create an instance of the case class <code>Bob</code>, set all the fields to the exact same value as <code>pat</code>, but change the value of <code>year</code> to <code>1992</code>. Finally, perform an equivalence check between <code>bob</code> and <code>pat</code>.</b>\n",
    "</p>\n"
   ]
  },
  {
   "cell_type": "code",
   "execution_count": null,
   "metadata": {},
   "outputs": [],
   "source": [
    "val Bob = Birthday(11,11,1992)"
   ]
  },
  {
   "cell_type": "markdown",
   "metadata": {},
   "source": [
    "\n",
    "<pre>\n",
    "val bob = Birthday(11, 10, 1992)\n",
    "bob == pat\n",
    "</pre>\n"
   ]
  },
  {
   "cell_type": "markdown",
   "metadata": {},
   "source": [
    "<a id=\"ref3\"></a>\n",
    "## 3.4 Apply and Unapply "
   ]
  },
  {
   "cell_type": "markdown",
   "metadata": {},
   "source": [
    "### By the end of this section you should be able to:\n",
    "\n",
    "<ul>\n",
    "\n",
    "  <li>Illustrate the difference between a type and a term   </li>\n",
    "  <li>Describe how the apply method works in both objects and classes </li>\n",
    "<li>Outline how unapply works </li>\n",
    "</ul>  \n"
   ]
  },
  {
   "cell_type": "markdown",
   "metadata": {},
   "source": [
    "### Type\n",
    "<li>A type is a description of a concept in an application. For example, a class is a type.</li>\n"
   ]
  },
  {
   "cell_type": "markdown",
   "metadata": {},
   "source": [
    "### Term\n",
    "<ul>\n",
    "<li>A term is a concrete representation of a type </li>\n",
    "<li>Any class instance, including an object, is a term </li>\n",
    "<li>Methods  are also a term </li>\n",
    "</ul>  \n"
   ]
  },
  {
   "cell_type": "markdown",
   "metadata": {},
   "source": [
    "### Apply "
   ]
  },
  {
   "cell_type": "markdown",
   "metadata": {},
   "source": [
    " When you create a case class you are actually creating a companion object  to create the instance of that class "
   ]
  },
  {
   "cell_type": "code",
   "execution_count": null,
   "metadata": {},
   "outputs": [],
   "source": [
    "case class Time(hours: Int = 0, minutes:Int = 0)"
   ]
  },
  {
   "cell_type": "markdown",
   "metadata": {},
   "source": [
    "we can verify this by typing the name of the class we get the object: "
   ]
  },
  {
   "cell_type": "code",
   "execution_count": null,
   "metadata": {},
   "outputs": [],
   "source": [
    "val t = Time"
   ]
  },
  {
   "cell_type": "markdown",
   "metadata": {},
   "source": [
    " The `apply` method is a factory for the instances of the case class. The fields of the values are assigned when `apply` is called. There is also no need to call the method directly as shown below."
   ]
  },
  {
   "cell_type": "code",
   "execution_count": null,
   "metadata": {},
   "outputs": [],
   "source": [
    "Time.apply(9, 0)"
   ]
  },
  {
   "cell_type": "code",
   "execution_count": null,
   "metadata": {},
   "outputs": [],
   "source": [
    "Time(9,0)"
   ]
  },
  {
   "cell_type": "markdown",
   "metadata": {},
   "source": [
    " We can see an example of the apply method by creating the object `Reverse`. The method apply takes the string `s` and reverses  it. Being able to use `apply` in this fashion allows us to create \"smart constructors\" that include validation and specialized construction logic."
   ]
  },
  {
   "cell_type": "code",
   "execution_count": null,
   "metadata": {},
   "outputs": [],
   "source": [
    "object Reverse {\n",
    "  def apply(s: String): String = s.reverse\n",
    "}"
   ]
  },
  {
   "cell_type": "markdown",
   "metadata": {},
   "source": [
    "We can call the apply method explicitly "
   ]
  },
  {
   "cell_type": "code",
   "execution_count": null,
   "metadata": {},
   "outputs": [],
   "source": [
    "Reverse.apply(\"hello\")"
   ]
  },
  {
   "cell_type": "markdown",
   "metadata": {},
   "source": [
    "or just using parentheses "
   ]
  },
  {
   "cell_type": "code",
   "execution_count": null,
   "metadata": {},
   "outputs": [],
   "source": [
    "Reverse(\"hello\")"
   ]
  },
  {
   "cell_type": "markdown",
   "metadata": {},
   "source": [
    " Something similar happens when you create an array   (we will cover arrays in the next section).  We can use the apply method or merely use the parentheses as shown in the following example:"
   ]
  },
  {
   "cell_type": "code",
   "execution_count": null,
   "metadata": {},
   "outputs": [],
   "source": [
    "val A=Array.apply(1,2,3)\n",
    "println(\"A(0):\",A(0))\n",
    "println(\"A(1):\",A(1))\n",
    "println(\"A(2):\",A(2))"
   ]
  },
  {
   "cell_type": "code",
   "execution_count": null,
   "metadata": {},
   "outputs": [],
   "source": [
    "val B=Array(1,2,3)\n",
    "println(\"B(0):\",B(0))\n",
    "println(\"B(1):\",B(1))\n",
    "println(\"B(2):\",B(2))"
   ]
  },
  {
   "cell_type": "markdown",
   "metadata": {},
   "source": [
    "The following will be used for the next question. The class <code>OffTime</code> takes the first name of the employee, the employee's lunch time and break time as fields.\n",
    "Due to the limitations of the notebook environment, case clases and their companion objects need to be defined in the same cell."
   ]
  },
  {
   "cell_type": "code",
   "execution_count": null,
   "metadata": {},
   "outputs": [],
   "source": [
    "class OffTime(val name: String, val lunchTime: String , val breakTime: String)\n",
    "\n",
    "object OffTime {\n",
    "  def apply(Name:String, LunchTime : String, BreakTime: String): OffTime =\n",
    "      new OffTime(Name, LunchTime, BreakTime)\n",
    "}"
   ]
  },
  {
   "cell_type": "markdown",
   "metadata": {},
   "source": [
    " The following companion object creates an instance of the class "
   ]
  },
  {
   "cell_type": "markdown",
   "metadata": {},
   "source": [
    "<h1> Question  3.8: </h1>\n",
    "    <p> Use the companion object <code>OffTime</code> to create an instance of the class called 'employ1' and print the object:\n",
    "<p>\n",
    "    <pre>\n",
    "name=\"John\"\n",
    "lunchTime=\"12:30 pm\"\n",
    "breakTime=\"3:15 pm\"\n",
    "\n",
    "</pre>\n",
    "</p>\n"
   ]
  },
  {
   "cell_type": "code",
   "execution_count": null,
   "metadata": {},
   "outputs": [],
   "source": [
    "val employ1 = OffTime(\"John \",\"12:30 pm\",\"3:15 pm\")\n",
    "employ1"
   ]
  },
  {
   "cell_type": "markdown",
   "metadata": {},
   "source": [
    "<pre>\n",
    "val employ1 = OffTime(\"John \",\"12:30 pm\",\"3:15 pm\")\n",
    "employ1\n",
    "</pre>"
   ]
  },
  {
   "cell_type": "markdown",
   "metadata": {},
   "source": [
    "<h1> Question  3.9: </h1>\n",
    "<p>  Print out the fields of the instance:\n",
    "</p>"
   ]
  },
  {
   "cell_type": "code",
   "execution_count": null,
   "metadata": {},
   "outputs": [],
   "source": [
    "println(\"Name: \" + employ1.name)\n",
    "println(\"Lunch Time: \" + employ1.lunchTime)\n",
    "println(\"Break Time: \" + employ1.breakTime)\n"
   ]
  },
  {
   "cell_type": "markdown",
   "metadata": {},
   "source": [
    "\n",
    "<pre>\n",
    "println(\"Name: \" + employ1.name)\n",
    "println(\"Lunch Time: \" + employ1.lunchTime)\n",
    "println(\"Break Time: \" + employ1.breakTime)\n",
    "</pre>\n"
   ]
  },
  {
   "cell_type": "markdown",
   "metadata": {},
   "source": [
    "\n",
    "<h1> Question  3.10: </h1>\n",
    "<p>  Create a case class \"OffTime1\" with the identical fields \"OffTime\" and create an instance called \"Employ2\" with the exact same fields as 'Employ1'and print out the instance \n",
    "</p>\n"
   ]
  },
  {
   "cell_type": "code",
   "execution_count": null,
   "metadata": {},
   "outputs": [],
   "source": [
    "case class OffTime(name: String, lunchTime: String, breakTime: String)\n",
    "val Employ2 = OffTime(\"John \", \"12:30 pm\", \"3:15 pm\")\n",
    "print(Employ2)"
   ]
  },
  {
   "cell_type": "markdown",
   "metadata": {},
   "source": [
    "\n",
    "<pre>\n",
    "case class OfftimeCase(name: String, luchTime: String, breakTime: String)\n",
    "val employ2 = OfftimeCase(\"John \", \"12:30 pm\", \"3:15 pm\")\n",
    "print(Employ2)\n",
    "</pre>\n",
    "</div>"
   ]
  },
  {
   "cell_type": "markdown",
   "metadata": {},
   "source": [
    "\n",
    "<h1> Question  3.11: </h1>\n",
    "<p>  Print out the fields  of the instance \"Employ2\":\n",
    "</p>"
   ]
  },
  {
   "cell_type": "code",
   "execution_count": null,
   "metadata": {},
   "outputs": [],
   "source": [
    "println(\"Name: \" + Employ2.name)\n",
    "println(\"Luch Time: \" + Employ2.lunchTime)\n",
    "println(\"Break Time: \" + Employ2.breakTime)"
   ]
  },
  {
   "cell_type": "markdown",
   "metadata": {},
   "source": [
    "\n",
    "<pre>\n",
    "println(\"Name: \" + Employ2.name)\n",
    "println(\"Luch Time: \" + Employ2.luchTime)\n",
    "println(\"Break Time: \" + Employ2.breakTime)\n",
    "</pre>\n"
   ]
  },
  {
   "cell_type": "markdown",
   "metadata": {},
   "source": [
    "### Unapply "
   ]
  },
  {
   "cell_type": "markdown",
   "metadata": {},
   "source": [
    "If the `apply` method is used to construct object, `unapply` is used to destruct the instance into the parameters that created it. Consider the following example, we create the instance of `Time` using the two arguments: an integer 8 (the hours) and the integer 30 (the minutes)."
   ]
  },
  {
   "cell_type": "code",
   "execution_count": null,
   "metadata": {},
   "outputs": [],
   "source": [
    "val time1 = Time(8, 30)"
   ]
  },
  {
   "cell_type": "markdown",
   "metadata": {},
   "source": [
    "We can use the `unapply` method that is automatically generated for us by the computer. We can call it directly using the companion object."
   ]
  },
  {
   "cell_type": "code",
   "execution_count": null,
   "metadata": {},
   "outputs": [],
   "source": [
    "Time.unapply(time1)"
   ]
  },
  {
   "cell_type": "markdown",
   "metadata": {},
   "source": [
    " The procedure is summarized in the following figure, the instance or object time is represented by a table. Each of the different fields is represented with different rows in the table using colors to help distinguish them. After unapply is used, the field values are mapped to a tuple."
   ]
  },
  {
   "cell_type": "markdown",
   "metadata": {},
   "source": [
    " <img src = \"image/unapply.png\" width = 1200>\n",
    "\n"
   ]
  },
  {
   "cell_type": "markdown",
   "metadata": {},
   "source": [
    "<a id=\"ref4\"></a>\n",
    "## Synthetic Methods"
   ]
  },
  {
   "cell_type": "markdown",
   "metadata": {},
   "source": [
    "#### By the end of this section you should be able:\n",
    "\n",
    "<ul>\n",
    "\n",
    "  <li> describe how the Scala compiler generates functionality </li>\n",
    "  <li>explain the methods: equals, hashCode, toString and copy </li>\n",
    "<li> outline how you would use immutable case classes what state is changing  </li>\n",
    "</ul>  \n"
   ]
  },
  {
   "cell_type": "markdown",
   "metadata": {},
   "source": [
    "Synthetic methods are prebuilt methods that are included when you build a case class, similar to the apply method."
   ]
  },
  {
   "cell_type": "markdown",
   "metadata": {},
   "source": [
    "#### equals()"
   ]
  },
  {
   "cell_type": "markdown",
   "metadata": {},
   "source": [
    "for `equals()` check out the <a href=\"#ex1\"> previous example </a>"
   ]
  },
  {
   "cell_type": "markdown",
   "metadata": {},
   "source": [
    "The method `hashCode` maps instances with different fields to a number, consider the case class `Time`."
   ]
  },
  {
   "cell_type": "code",
   "execution_count": null,
   "metadata": {},
   "outputs": [],
   "source": [
    "case class Time(hours: Int = 0, minutes: Int = 0)"
   ]
  },
  {
   "cell_type": "markdown",
   "metadata": {},
   "source": [
    "We can create an instance of the case class with the field `hours` set to `8` and the field `minutes` set to `30`."
   ]
  },
  {
   "cell_type": "code",
   "execution_count": null,
   "metadata": {
    "scrolled": true
   },
   "outputs": [],
   "source": [
    "val time = Time(8, 30)\n",
    "time"
   ]
  },
  {
   "cell_type": "markdown",
   "metadata": {},
   "source": [
    "When we create the instance of the case class the compiler generates the method `.hashCode`. We can use the method to generate a value that we can use later in a `HashMap` or `HashSet`."
   ]
  },
  {
   "cell_type": "code",
   "execution_count": null,
   "metadata": {},
   "outputs": [],
   "source": [
    "time.hashCode"
   ]
  },
  {
   "cell_type": "markdown",
   "metadata": {},
   "source": [
    " The method maps the instance to the number `448866544`"
   ]
  },
  {
   "cell_type": "markdown",
   "metadata": {},
   "source": [
    " If we create a different instance and apply the method  `hashCode` we get a different value."
   ]
  },
  {
   "cell_type": "code",
   "execution_count": null,
   "metadata": {},
   "outputs": [],
   "source": [
    " Time(8, 40).hashCode == Time(8, 50).hashCode\n"
   ]
  },
  {
   "cell_type": "code",
   "execution_count": null,
   "metadata": {},
   "outputs": [],
   "source": [
    "val time1 = Time(8, 40)\n",
    "time1.hashCode"
   ]
  },
  {
   "cell_type": "markdown",
   "metadata": {},
   "source": [
    "The following image summarizes the result, after applying the method `hashCode` to each instance we get a different value."
   ]
  },
  {
   "cell_type": "markdown",
   "metadata": {},
   "source": [
    " <img src = \"image/hashcode.png\" width = 1200>\n",
    "\n"
   ]
  },
  {
   "cell_type": "markdown",
   "metadata": {},
   "source": [
    " If we create two instances with the same fields, then apply the method \".hashCode()\" the same value is generated: "
   ]
  },
  {
   "cell_type": "code",
   "execution_count": null,
   "metadata": {},
   "outputs": [],
   "source": [
    "val time3 = time.copy(8, 40)\n",
    "time3.hashCode"
   ]
  },
  {
   "cell_type": "code",
   "execution_count": null,
   "metadata": {},
   "outputs": [],
   "source": [
    "val time4 = Time(8, 40)\n",
    "time1.hashCode"
   ]
  },
  {
   "cell_type": "markdown",
   "metadata": {},
   "source": [
    " The result is summarised in the following figure:"
   ]
  },
  {
   "cell_type": "markdown",
   "metadata": {},
   "source": [
    "<img src = \"image/hashcode2.png\" width = 1200>"
   ]
  },
  {
   "cell_type": "markdown",
   "metadata": {},
   "source": [
    "### toString()"
   ]
  },
  {
   "cell_type": "markdown",
   "metadata": {},
   "source": [
    "The Scala compiler will automatically generate a `toString` method for every case class we define. Consider the class Dog with the fieldd `name` and `breed`. When we create a new instance of the class (note that this is not a case class) and print out the name we see the virtual memory space."
   ]
  },
  {
   "cell_type": "code",
   "execution_count": null,
   "metadata": {},
   "outputs": [],
   "source": [
    "class Dog(name:String, breed: String)\n",
    "val dog1 = new Dog(\"Max\", \"German Shepard\")\n",
    "println(dog1)"
   ]
  },
  {
   "cell_type": "markdown",
   "metadata": {},
   "source": [
    "When you create a case class the method `toString` is generated. When you print out an instance of the case class the name of the case class and the fields are displayed. Consider the case class `K9` with the field `name` and `breed`. When you print the instance of the object you get the name of the class as well as the values of the fields."
   ]
  },
  {
   "cell_type": "code",
   "execution_count": null,
   "metadata": {},
   "outputs": [],
   "source": [
    "case class K9(name:String,Breed:String)\n",
    "val dog2 = K9(\"Max\",\"German Shepard\")\n",
    "print(dog2)"
   ]
  },
  {
   "cell_type": "markdown",
   "metadata": {},
   "source": [
    "### copy()"
   ]
  },
  {
   "cell_type": "markdown",
   "metadata": {},
   "source": [
    "The method copy allows you to copy an instance of a case class; it also gives you the ability to change only a few fields while making a copy. Consider the instance of the case class `K9` called `dog1`:\n"
   ]
  },
  {
   "cell_type": "code",
   "execution_count": null,
   "metadata": {},
   "outputs": [],
   "source": [
    "val dog1 = K9(\"Max\",\"German Shepard\")\n",
    "dog1"
   ]
  },
  {
   "cell_type": "markdown",
   "metadata": {},
   "source": [
    "We can create a new instance and call it dog2:"
   ]
  },
  {
   "cell_type": "code",
   "execution_count": null,
   "metadata": {},
   "outputs": [],
   "source": [
    "val dog2 = dog1.copy()\n",
    "dog2\n"
   ]
  },
  {
   "cell_type": "markdown",
   "metadata": {},
   "source": [
    "we can check if the two instances are equal "
   ]
  },
  {
   "cell_type": "code",
   "execution_count": null,
   "metadata": {},
   "outputs": [],
   "source": [
    "dog1 == dog2"
   ]
  },
  {
   "cell_type": "markdown",
   "metadata": {},
   "source": [
    "we can copy the instance to dog3 and change the field name to Bob "
   ]
  },
  {
   "cell_type": "code",
   "execution_count": null,
   "metadata": {},
   "outputs": [],
   "source": [
    "val dog3 = dog1.copy(name = \"Bob\")\n",
    "dog3"
   ]
  },
  {
   "cell_type": "markdown",
   "metadata": {},
   "source": [
    "we can verify  the instances are not equal "
   ]
  },
  {
   "cell_type": "code",
   "execution_count": null,
   "metadata": {},
   "outputs": [],
   "source": [
    "dog1 == dog3"
   ]
  },
  {
   "cell_type": "markdown",
   "metadata": {},
   "source": [
    "\n",
    "<h1> Question  3.12: </h1>\n",
    "    <p>  Create an instance of the case class <code>K9</code>,  called it <code>d1</code> and give it the name <code>Killer</code> and the <code>breed</code> <code>Chihuahua</code>.  Use the <code>copy</code> method to create a new instance changing the name to <code>Orange</code>, call this new instance <code>d2</code>:\n",
    "</p>\n"
   ]
  },
  {
   "cell_type": "code",
   "execution_count": null,
   "metadata": {},
   "outputs": [],
   "source": [
    "val d1 = K9(\"Killer\", \"Chihuahua\")\n",
    "val d2 = d1.copy(name=\"Orange\")\n",
    "println(d2)"
   ]
  },
  {
   "cell_type": "markdown",
   "metadata": {},
   "source": [
    "<pre>\n",
    "val d1 = K9(\"Killer\", \"Chihuahua\")\n",
    "println(d1)\n",
    "val d2 = d1.copy(name=\"Orange\")\n",
    "println(d2)\n",
    "</pre>\n"
   ]
  },
  {
   "cell_type": "markdown",
   "metadata": {},
   "source": [
    "<h1> Question  3.13: </h1>\n",
    "    <p>Will you get the same value if you apply the method <code>hashCode</code> ?:\n",
    "</p>\n"
   ]
  },
  {
   "cell_type": "code",
   "execution_count": null,
   "metadata": {},
   "outputs": [],
   "source": [
    "println(\"The hash code of d1:\", d1.hashCode)\n",
    "println(\"The hash code of d2:\", d2.hashCode)"
   ]
  },
  {
   "cell_type": "markdown",
   "metadata": {},
   "source": [
    "\n",
    "<pre>\n",
    "println(\"The hash code of d1:\", d1.hashCode)\n",
    "println(\"The hash code of d2:\", d2.hashCode)\n",
    "</pre>\n"
   ]
  },
  {
   "cell_type": "markdown",
   "metadata": {},
   "source": [
    "<a id=\"ref5\"></a>\n",
    "# Immutability in thread safety "
   ]
  },
  {
   "cell_type": "markdown",
   "metadata": {},
   "source": [
    "### By the end of this section you should be able to:\n",
    "\n",
    "<ul>\n",
    "\n",
    "  <li>  understand basic thread safety in the JVM  </li>\n",
    "  <li>described the importance of immutability in multithreaded applications  </li>\n",
    "<li> online how to use snapshots to preserve thread safety with case classes  </li>\n",
    "</ul>  \n"
   ]
  },
  {
   "cell_type": "markdown",
   "metadata": {},
   "source": [
    "consider the case class customer "
   ]
  },
  {
   "cell_type": "code",
   "execution_count": null,
   "metadata": {},
   "outputs": [],
   "source": [
    "case class Customer(fistName:String, lastName:String)"
   ]
  },
  {
   "cell_type": "markdown",
   "metadata": {},
   "source": [
    "we can create a new instance of the class and assign it to the \"val\" person1:"
   ]
  },
  {
   "cell_type": "code",
   "execution_count": null,
   "metadata": {},
   "outputs": [],
   "source": [
    "val person1 = new Customer(\"Joie\", \"JoJo\")\n",
    "person1"
   ]
  },
  {
   "cell_type": "markdown",
   "metadata": {},
   "source": [
    "we can not assign the value to a new instance of customer as val's are immutable "
   ]
  },
  {
   "cell_type": "code",
   "execution_count": null,
   "metadata": {},
   "outputs": [],
   "source": [
    "person1 = new Customer(\"Joie\",\"JoJo\")"
   ]
  },
  {
   "cell_type": "markdown",
   "metadata": {},
   "source": [
    "we can access the fields "
   ]
  },
  {
   "cell_type": "code",
   "execution_count": null,
   "metadata": {},
   "outputs": [],
   "source": [
    "person1.fistName"
   ]
  },
  {
   "cell_type": "markdown",
   "metadata": {},
   "source": [
    " but as the  are val's we can not change them "
   ]
  },
  {
   "cell_type": "code",
   "execution_count": null,
   "metadata": {},
   "outputs": [],
   "source": [
    "person1.fistName = \"john\""
   ]
  },
  {
   "cell_type": "markdown",
   "metadata": {},
   "source": [
    "If we assign an instance of a case class to a var we must be more careful. To ensure that any threads  know about any changes we use the \"@volatile\"  annotation:"
   ]
  },
  {
   "cell_type": "code",
   "execution_count": null,
   "metadata": {},
   "outputs": [],
   "source": [
    "@volatile var person2 = Customer(\"Martin\",\"Odersky\")\n",
    "person2"
   ]
  },
  {
   "cell_type": "markdown",
   "metadata": {},
   "source": [
    "Therefore, if we use the method `copy` and change the field `lastname` other threads will see this change."
   ]
  },
  {
   "cell_type": "code",
   "execution_count": null,
   "metadata": {},
   "outputs": [],
   "source": [
    "person2 = person2.copy(lastName=\"Doe\")\n",
    "person2"
   ]
  },
  {
   "cell_type": "markdown",
   "metadata": {},
   "source": [
    "***\n",
    "### part of Scala 101: cognitiveclass.ai lab"
   ]
  }
 ],
 "metadata": {
  "kernelspec": {
   "display_name": "spylon-kernel",
   "language": "scala",
   "name": "spylon-kernel"
  },
  "language_info": {
   "codemirror_mode": "text/x-scala",
   "file_extension": ".scala",
   "help_links": [
    {
     "text": "MetaKernel Magics",
     "url": "https://metakernel.readthedocs.io/en/latest/source/README.html"
    }
   ],
   "mimetype": "text/x-scala",
   "name": "scala",
   "pygments_lexer": "scala",
   "version": "0.4.1"
  }
 },
 "nbformat": 4,
 "nbformat_minor": 4
}
